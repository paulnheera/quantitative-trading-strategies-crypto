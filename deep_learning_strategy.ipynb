{
 "cells": [
  {
   "cell_type": "markdown",
   "metadata": {},
   "source": [
    "# Deep Learning for Market Movement Prediction"
   ]
  },
  {
   "cell_type": "code",
   "execution_count": 255,
   "metadata": {},
   "outputs": [],
   "source": [
    "# Import libraries\n",
    "import pandas as pd\n",
    "import numpy as np\n",
    "from sklearn.neural_network import MLPClassifier\n",
    "import tensorflow as tf\n",
    "from keras.models import Sequential         # Model type\n",
    "from keras.layers import Dense              # Layers  \n",
    "from keras.optimizers import Adam, RMSprop  # Optimizers"
   ]
  },
  {
   "cell_type": "markdown",
   "metadata": {},
   "source": [
    "## Data Preparation"
   ]
  },
  {
   "cell_type": "code",
   "execution_count": 256,
   "metadata": {},
   "outputs": [
    {
     "data": {
      "text/html": [
       "<div>\n",
       "<style scoped>\n",
       "    .dataframe tbody tr th:only-of-type {\n",
       "        vertical-align: middle;\n",
       "    }\n",
       "\n",
       "    .dataframe tbody tr th {\n",
       "        vertical-align: top;\n",
       "    }\n",
       "\n",
       "    .dataframe thead th {\n",
       "        text-align: right;\n",
       "    }\n",
       "</style>\n",
       "<table border=\"1\" class=\"dataframe\">\n",
       "  <thead>\n",
       "    <tr style=\"text-align: right;\">\n",
       "      <th></th>\n",
       "      <th>Open</th>\n",
       "      <th>High</th>\n",
       "      <th>Low</th>\n",
       "      <th>Close</th>\n",
       "      <th>Volume</th>\n",
       "      <th>Amount</th>\n",
       "    </tr>\n",
       "    <tr>\n",
       "      <th>Time</th>\n",
       "      <th></th>\n",
       "      <th></th>\n",
       "      <th></th>\n",
       "      <th></th>\n",
       "      <th></th>\n",
       "      <th></th>\n",
       "    </tr>\n",
       "  </thead>\n",
       "  <tbody>\n",
       "    <tr>\n",
       "      <th>01/01/2019 00:00</th>\n",
       "      <td>3700.1709</td>\n",
       "      <td>3714.5718</td>\n",
       "      <td>3690.5661</td>\n",
       "      <td>3700.3683</td>\n",
       "      <td>3.0644</td>\n",
       "      <td>11348.1603</td>\n",
       "    </tr>\n",
       "    <tr>\n",
       "      <th>01/01/2019 01:00</th>\n",
       "      <td>3701.6228</td>\n",
       "      <td>3702.0822</td>\n",
       "      <td>3685.7531</td>\n",
       "      <td>3687.6851</td>\n",
       "      <td>3.6307</td>\n",
       "      <td>13419.4868</td>\n",
       "    </tr>\n",
       "    <tr>\n",
       "      <th>01/01/2019 02:00</th>\n",
       "      <td>3687.5345</td>\n",
       "      <td>3692.8131</td>\n",
       "      <td>3679.9838</td>\n",
       "      <td>3687.8867</td>\n",
       "      <td>1.9861</td>\n",
       "      <td>7319.2636</td>\n",
       "    </tr>\n",
       "    <tr>\n",
       "      <th>01/01/2019 03:00</th>\n",
       "      <td>3690.0000</td>\n",
       "      <td>3699.2613</td>\n",
       "      <td>3687.3615</td>\n",
       "      <td>3692.3558</td>\n",
       "      <td>4.5664</td>\n",
       "      <td>16853.7124</td>\n",
       "    </tr>\n",
       "    <tr>\n",
       "      <th>01/01/2019 04:00</th>\n",
       "      <td>3697.0000</td>\n",
       "      <td>3709.6029</td>\n",
       "      <td>3690.0000</td>\n",
       "      <td>3697.0334</td>\n",
       "      <td>1.2229</td>\n",
       "      <td>4526.6382</td>\n",
       "    </tr>\n",
       "  </tbody>\n",
       "</table>\n",
       "</div>"
      ],
      "text/plain": [
       "                       Open       High        Low      Close  Volume      Amount\n",
       "Time                                                                            \n",
       "01/01/2019 00:00  3700.1709  3714.5718  3690.5661  3700.3683  3.0644  11348.1603\n",
       "01/01/2019 01:00  3701.6228  3702.0822  3685.7531  3687.6851  3.6307  13419.4868\n",
       "01/01/2019 02:00  3687.5345  3692.8131  3679.9838  3687.8867  1.9861   7319.2636\n",
       "01/01/2019 03:00  3690.0000  3699.2613  3687.3615  3692.3558  4.5664  16853.7124\n",
       "01/01/2019 04:00  3697.0000  3709.6029  3690.0000  3697.0334  1.2229   4526.6382"
      ]
     },
     "execution_count": 256,
     "metadata": {},
     "output_type": "execute_result"
    }
   ],
   "source": [
    "# Import data\n",
    "data = pd.read_csv('Kucoin_BTCUSDT_1h.csv')\n",
    "data = data.set_index('Time')\n",
    "data.round(4).head()"
   ]
  },
  {
   "cell_type": "code",
   "execution_count": 257,
   "metadata": {},
   "outputs": [
    {
     "data": {
      "text/html": [
       "<div>\n",
       "<style scoped>\n",
       "    .dataframe tbody tr th:only-of-type {\n",
       "        vertical-align: middle;\n",
       "    }\n",
       "\n",
       "    .dataframe tbody tr th {\n",
       "        vertical-align: top;\n",
       "    }\n",
       "\n",
       "    .dataframe thead th {\n",
       "        text-align: right;\n",
       "    }\n",
       "</style>\n",
       "<table border=\"1\" class=\"dataframe\">\n",
       "  <thead>\n",
       "    <tr style=\"text-align: right;\">\n",
       "      <th></th>\n",
       "      <th>Open</th>\n",
       "      <th>High</th>\n",
       "      <th>Low</th>\n",
       "      <th>Close</th>\n",
       "      <th>Volume</th>\n",
       "      <th>Amount</th>\n",
       "      <th>return</th>\n",
       "      <th>direction</th>\n",
       "    </tr>\n",
       "    <tr>\n",
       "      <th>Time</th>\n",
       "      <th></th>\n",
       "      <th></th>\n",
       "      <th></th>\n",
       "      <th></th>\n",
       "      <th></th>\n",
       "      <th></th>\n",
       "      <th></th>\n",
       "      <th></th>\n",
       "    </tr>\n",
       "  </thead>\n",
       "  <tbody>\n",
       "    <tr>\n",
       "      <th>01/01/2019 00:00</th>\n",
       "      <td>3700.170853</td>\n",
       "      <td>3714.571764</td>\n",
       "      <td>3690.566100</td>\n",
       "      <td>3700.368284</td>\n",
       "      <td>3.064360</td>\n",
       "      <td>11348.160330</td>\n",
       "      <td>NaN</td>\n",
       "      <td>0</td>\n",
       "    </tr>\n",
       "    <tr>\n",
       "      <th>01/01/2019 01:00</th>\n",
       "      <td>3701.622819</td>\n",
       "      <td>3702.082234</td>\n",
       "      <td>3685.753131</td>\n",
       "      <td>3687.685134</td>\n",
       "      <td>3.630704</td>\n",
       "      <td>13419.486790</td>\n",
       "      <td>-0.003428</td>\n",
       "      <td>0</td>\n",
       "    </tr>\n",
       "    <tr>\n",
       "      <th>01/01/2019 02:00</th>\n",
       "      <td>3687.534508</td>\n",
       "      <td>3692.813102</td>\n",
       "      <td>3679.983792</td>\n",
       "      <td>3687.886662</td>\n",
       "      <td>1.986100</td>\n",
       "      <td>7319.263562</td>\n",
       "      <td>0.000055</td>\n",
       "      <td>1</td>\n",
       "    </tr>\n",
       "    <tr>\n",
       "      <th>01/01/2019 03:00</th>\n",
       "      <td>3689.999999</td>\n",
       "      <td>3699.261284</td>\n",
       "      <td>3687.361524</td>\n",
       "      <td>3692.355821</td>\n",
       "      <td>4.566440</td>\n",
       "      <td>16853.712350</td>\n",
       "      <td>0.001212</td>\n",
       "      <td>1</td>\n",
       "    </tr>\n",
       "    <tr>\n",
       "      <th>01/01/2019 04:00</th>\n",
       "      <td>3696.999985</td>\n",
       "      <td>3709.602927</td>\n",
       "      <td>3690.000000</td>\n",
       "      <td>3697.033403</td>\n",
       "      <td>1.222852</td>\n",
       "      <td>4526.638151</td>\n",
       "      <td>0.001267</td>\n",
       "      <td>1</td>\n",
       "    </tr>\n",
       "  </tbody>\n",
       "</table>\n",
       "</div>"
      ],
      "text/plain": [
       "                         Open         High          Low        Close    Volume        Amount    return  direction\n",
       "Time                                                                                                             \n",
       "01/01/2019 00:00  3700.170853  3714.571764  3690.566100  3700.368284  3.064360  11348.160330       NaN          0\n",
       "01/01/2019 01:00  3701.622819  3702.082234  3685.753131  3687.685134  3.630704  13419.486790 -0.003428          0\n",
       "01/01/2019 02:00  3687.534508  3692.813102  3679.983792  3687.886662  1.986100   7319.263562  0.000055          1\n",
       "01/01/2019 03:00  3689.999999  3699.261284  3687.361524  3692.355821  4.566440  16853.712350  0.001212          1\n",
       "01/01/2019 04:00  3696.999985  3709.602927  3690.000000  3697.033403  1.222852   4526.638151  0.001267          1"
      ]
     },
     "execution_count": 257,
     "metadata": {},
     "output_type": "execute_result"
    }
   ],
   "source": [
    "# Calculate the discrete returns and define the direction as a binary column\n",
    "data['return'] = data['Close']/data['Close'].shift(1) - 1\n",
    "\n",
    "data['direction'] = np.where(data['return'] > 0, 1, 0)\n",
    "\n",
    "data.head()"
   ]
  },
  {
   "cell_type": "markdown",
   "metadata": {},
   "source": [
    "### Create Features"
   ]
  },
  {
   "cell_type": "code",
   "execution_count": 258,
   "metadata": {},
   "outputs": [
    {
     "data": {
      "text/html": [
       "<div>\n",
       "<style scoped>\n",
       "    .dataframe tbody tr th:only-of-type {\n",
       "        vertical-align: middle;\n",
       "    }\n",
       "\n",
       "    .dataframe tbody tr th {\n",
       "        vertical-align: top;\n",
       "    }\n",
       "\n",
       "    .dataframe thead th {\n",
       "        text-align: right;\n",
       "    }\n",
       "</style>\n",
       "<table border=\"1\" class=\"dataframe\">\n",
       "  <thead>\n",
       "    <tr style=\"text-align: right;\">\n",
       "      <th></th>\n",
       "      <th>Open</th>\n",
       "      <th>High</th>\n",
       "      <th>Low</th>\n",
       "      <th>Close</th>\n",
       "      <th>Volume</th>\n",
       "      <th>Amount</th>\n",
       "      <th>return</th>\n",
       "      <th>direction</th>\n",
       "      <th>lag_1</th>\n",
       "      <th>lag_2</th>\n",
       "      <th>lag_3</th>\n",
       "      <th>lag_4</th>\n",
       "      <th>lag_5</th>\n",
       "    </tr>\n",
       "    <tr>\n",
       "      <th>Time</th>\n",
       "      <th></th>\n",
       "      <th></th>\n",
       "      <th></th>\n",
       "      <th></th>\n",
       "      <th></th>\n",
       "      <th></th>\n",
       "      <th></th>\n",
       "      <th></th>\n",
       "      <th></th>\n",
       "      <th></th>\n",
       "      <th></th>\n",
       "      <th></th>\n",
       "      <th></th>\n",
       "    </tr>\n",
       "  </thead>\n",
       "  <tbody>\n",
       "    <tr>\n",
       "      <th>01/01/2019 00:00</th>\n",
       "      <td>3700.1709</td>\n",
       "      <td>3714.5718</td>\n",
       "      <td>3690.5661</td>\n",
       "      <td>3700.3683</td>\n",
       "      <td>3.0644</td>\n",
       "      <td>11348.1603</td>\n",
       "      <td>NaN</td>\n",
       "      <td>0</td>\n",
       "      <td>NaN</td>\n",
       "      <td>NaN</td>\n",
       "      <td>NaN</td>\n",
       "      <td>NaN</td>\n",
       "      <td>NaN</td>\n",
       "    </tr>\n",
       "    <tr>\n",
       "      <th>01/01/2019 01:00</th>\n",
       "      <td>3701.6228</td>\n",
       "      <td>3702.0822</td>\n",
       "      <td>3685.7531</td>\n",
       "      <td>3687.6851</td>\n",
       "      <td>3.6307</td>\n",
       "      <td>13419.4868</td>\n",
       "      <td>-0.0034</td>\n",
       "      <td>0</td>\n",
       "      <td>NaN</td>\n",
       "      <td>NaN</td>\n",
       "      <td>NaN</td>\n",
       "      <td>NaN</td>\n",
       "      <td>NaN</td>\n",
       "    </tr>\n",
       "    <tr>\n",
       "      <th>01/01/2019 02:00</th>\n",
       "      <td>3687.5345</td>\n",
       "      <td>3692.8131</td>\n",
       "      <td>3679.9838</td>\n",
       "      <td>3687.8867</td>\n",
       "      <td>1.9861</td>\n",
       "      <td>7319.2636</td>\n",
       "      <td>0.0001</td>\n",
       "      <td>1</td>\n",
       "      <td>-0.0034</td>\n",
       "      <td>NaN</td>\n",
       "      <td>NaN</td>\n",
       "      <td>NaN</td>\n",
       "      <td>NaN</td>\n",
       "    </tr>\n",
       "    <tr>\n",
       "      <th>01/01/2019 03:00</th>\n",
       "      <td>3690.0000</td>\n",
       "      <td>3699.2613</td>\n",
       "      <td>3687.3615</td>\n",
       "      <td>3692.3558</td>\n",
       "      <td>4.5664</td>\n",
       "      <td>16853.7124</td>\n",
       "      <td>0.0012</td>\n",
       "      <td>1</td>\n",
       "      <td>0.0001</td>\n",
       "      <td>-0.0034</td>\n",
       "      <td>NaN</td>\n",
       "      <td>NaN</td>\n",
       "      <td>NaN</td>\n",
       "    </tr>\n",
       "    <tr>\n",
       "      <th>01/01/2019 04:00</th>\n",
       "      <td>3697.0000</td>\n",
       "      <td>3709.6029</td>\n",
       "      <td>3690.0000</td>\n",
       "      <td>3697.0334</td>\n",
       "      <td>1.2229</td>\n",
       "      <td>4526.6382</td>\n",
       "      <td>0.0013</td>\n",
       "      <td>1</td>\n",
       "      <td>0.0012</td>\n",
       "      <td>0.0001</td>\n",
       "      <td>-0.0034</td>\n",
       "      <td>NaN</td>\n",
       "      <td>NaN</td>\n",
       "    </tr>\n",
       "  </tbody>\n",
       "</table>\n",
       "</div>"
      ],
      "text/plain": [
       "                       Open       High        Low      Close  Volume  ...   lag_1   lag_2   lag_3  lag_4  lag_5\n",
       "Time                                                                  ...                                      \n",
       "01/01/2019 00:00  3700.1709  3714.5718  3690.5661  3700.3683  3.0644  ...     NaN     NaN     NaN    NaN    NaN\n",
       "01/01/2019 01:00  3701.6228  3702.0822  3685.7531  3687.6851  3.6307  ...     NaN     NaN     NaN    NaN    NaN\n",
       "01/01/2019 02:00  3687.5345  3692.8131  3679.9838  3687.8867  1.9861  ... -0.0034     NaN     NaN    NaN    NaN\n",
       "01/01/2019 03:00  3690.0000  3699.2613  3687.3615  3692.3558  4.5664  ...  0.0001 -0.0034     NaN    NaN    NaN\n",
       "01/01/2019 04:00  3697.0000  3709.6029  3690.0000  3697.0334  1.2229  ...  0.0012  0.0001 -0.0034    NaN    NaN\n",
       "\n",
       "[5 rows x 13 columns]"
      ]
     },
     "execution_count": 258,
     "metadata": {},
     "output_type": "execute_result"
    }
   ],
   "source": [
    "# Create the lagged data\n",
    "lags = 5\n",
    "\n",
    "features = []\n",
    "for lag in range(1, lags + 1):\n",
    "    feature = f'lag_{lag}'\n",
    "    data[feature] = data['return'].shift(lag)\n",
    "    features.append(feature)\n",
    "    \n",
    "# Delete row containing NaN values\n",
    "# data.dropna(inplace=True)\n",
    "data.round(4).head()"
   ]
  },
  {
   "cell_type": "code",
   "execution_count": 259,
   "metadata": {},
   "outputs": [
    {
     "data": {
      "text/html": [
       "<div>\n",
       "<style scoped>\n",
       "    .dataframe tbody tr th:only-of-type {\n",
       "        vertical-align: middle;\n",
       "    }\n",
       "\n",
       "    .dataframe tbody tr th {\n",
       "        vertical-align: top;\n",
       "    }\n",
       "\n",
       "    .dataframe thead th {\n",
       "        text-align: right;\n",
       "    }\n",
       "</style>\n",
       "<table border=\"1\" class=\"dataframe\">\n",
       "  <thead>\n",
       "    <tr style=\"text-align: right;\">\n",
       "      <th></th>\n",
       "      <th>Open</th>\n",
       "      <th>High</th>\n",
       "      <th>Low</th>\n",
       "      <th>Close</th>\n",
       "      <th>Volume</th>\n",
       "      <th>Amount</th>\n",
       "      <th>return</th>\n",
       "      <th>direction</th>\n",
       "      <th>lag_1</th>\n",
       "      <th>lag_2</th>\n",
       "      <th>lag_3</th>\n",
       "      <th>lag_4</th>\n",
       "      <th>lag_5</th>\n",
       "      <th>momentum</th>\n",
       "      <th>volatility</th>\n",
       "      <th>distance</th>\n",
       "    </tr>\n",
       "    <tr>\n",
       "      <th>Time</th>\n",
       "      <th></th>\n",
       "      <th></th>\n",
       "      <th></th>\n",
       "      <th></th>\n",
       "      <th></th>\n",
       "      <th></th>\n",
       "      <th></th>\n",
       "      <th></th>\n",
       "      <th></th>\n",
       "      <th></th>\n",
       "      <th></th>\n",
       "      <th></th>\n",
       "      <th></th>\n",
       "      <th></th>\n",
       "      <th></th>\n",
       "      <th></th>\n",
       "    </tr>\n",
       "  </thead>\n",
       "  <tbody>\n",
       "    <tr>\n",
       "      <th>04/07/2022 21:00</th>\n",
       "      <td>19778.5</td>\n",
       "      <td>20025.0</td>\n",
       "      <td>19749.0</td>\n",
       "      <td>19956.8</td>\n",
       "      <td>363.2141</td>\n",
       "      <td>7.222108e+06</td>\n",
       "      <td>0.0090</td>\n",
       "      <td>1</td>\n",
       "      <td>-0.0026</td>\n",
       "      <td>-0.0050</td>\n",
       "      <td>0.0017</td>\n",
       "      <td>0.0080</td>\n",
       "      <td>-0.0032</td>\n",
       "      <td>-0.0002</td>\n",
       "      <td>0.0066</td>\n",
       "      <td>642.890</td>\n",
       "    </tr>\n",
       "    <tr>\n",
       "      <th>04/07/2022 22:00</th>\n",
       "      <td>19956.9</td>\n",
       "      <td>20255.0</td>\n",
       "      <td>19872.0</td>\n",
       "      <td>20166.4</td>\n",
       "      <td>799.4776</td>\n",
       "      <td>1.601910e+07</td>\n",
       "      <td>0.0105</td>\n",
       "      <td>1</td>\n",
       "      <td>0.0090</td>\n",
       "      <td>-0.0026</td>\n",
       "      <td>-0.0050</td>\n",
       "      <td>0.0017</td>\n",
       "      <td>0.0080</td>\n",
       "      <td>0.0022</td>\n",
       "      <td>0.0067</td>\n",
       "      <td>838.814</td>\n",
       "    </tr>\n",
       "    <tr>\n",
       "      <th>04/07/2022 23:00</th>\n",
       "      <td>20164.6</td>\n",
       "      <td>20354.0</td>\n",
       "      <td>20115.1</td>\n",
       "      <td>20235.9</td>\n",
       "      <td>850.5198</td>\n",
       "      <td>1.721385e+07</td>\n",
       "      <td>0.0034</td>\n",
       "      <td>1</td>\n",
       "      <td>0.0105</td>\n",
       "      <td>0.0090</td>\n",
       "      <td>-0.0026</td>\n",
       "      <td>-0.0050</td>\n",
       "      <td>0.0017</td>\n",
       "      <td>0.0027</td>\n",
       "      <td>0.0066</td>\n",
       "      <td>890.256</td>\n",
       "    </tr>\n",
       "    <tr>\n",
       "      <th>05/07/2022 00:00</th>\n",
       "      <td>20235.0</td>\n",
       "      <td>20489.0</td>\n",
       "      <td>20184.0</td>\n",
       "      <td>20403.5</td>\n",
       "      <td>1203.2726</td>\n",
       "      <td>2.449700e+07</td>\n",
       "      <td>0.0083</td>\n",
       "      <td>1</td>\n",
       "      <td>0.0034</td>\n",
       "      <td>0.0105</td>\n",
       "      <td>0.0090</td>\n",
       "      <td>-0.0026</td>\n",
       "      <td>-0.0050</td>\n",
       "      <td>0.0031</td>\n",
       "      <td>0.0066</td>\n",
       "      <td>1040.282</td>\n",
       "    </tr>\n",
       "    <tr>\n",
       "      <th>05/07/2022 01:00</th>\n",
       "      <td>20403.6</td>\n",
       "      <td>20429.0</td>\n",
       "      <td>20353.2</td>\n",
       "      <td>20371.7</td>\n",
       "      <td>177.3406</td>\n",
       "      <td>3.615895e+06</td>\n",
       "      <td>-0.0016</td>\n",
       "      <td>0</td>\n",
       "      <td>0.0083</td>\n",
       "      <td>0.0034</td>\n",
       "      <td>0.0105</td>\n",
       "      <td>0.0090</td>\n",
       "      <td>-0.0026</td>\n",
       "      <td>0.0057</td>\n",
       "      <td>0.0067</td>\n",
       "      <td>987.066</td>\n",
       "    </tr>\n",
       "  </tbody>\n",
       "</table>\n",
       "</div>"
      ],
      "text/plain": [
       "                     Open     High      Low    Close     Volume  ...   lag_4   lag_5  momentum  volatility  distance\n",
       "Time                                                             ...                                                \n",
       "04/07/2022 21:00  19778.5  20025.0  19749.0  19956.8   363.2141  ...  0.0080 -0.0032   -0.0002      0.0066   642.890\n",
       "04/07/2022 22:00  19956.9  20255.0  19872.0  20166.4   799.4776  ...  0.0017  0.0080    0.0022      0.0067   838.814\n",
       "04/07/2022 23:00  20164.6  20354.0  20115.1  20235.9   850.5198  ... -0.0050  0.0017    0.0027      0.0066   890.256\n",
       "05/07/2022 00:00  20235.0  20489.0  20184.0  20403.5  1203.2726  ... -0.0026 -0.0050    0.0031      0.0066  1040.282\n",
       "05/07/2022 01:00  20403.6  20429.0  20353.2  20371.7   177.3406  ...  0.0090 -0.0026    0.0057      0.0067   987.066\n",
       "\n",
       "[5 rows x 16 columns]"
      ]
     },
     "execution_count": 259,
     "metadata": {},
     "output_type": "execute_result"
    }
   ],
   "source": [
    "# Additional Features\n",
    "data['momentum'] = data['return'].rolling(5).mean().shift(1)\n",
    "\n",
    "data['volatility'] = data['return'].rolling(20).std().shift(1)\n",
    "\n",
    "data['distance'] = (data['Close'] - data['Close'].rolling(50).mean().shift(1)) # consider changing to percentage distance\n",
    "\n",
    "data.round(4).tail()"
   ]
  },
  {
   "cell_type": "code",
   "execution_count": 260,
   "metadata": {},
   "outputs": [
    {
     "data": {
      "text/plain": [
       "<matplotlib.axes._subplots.AxesSubplot at 0x17058aa0888>"
      ]
     },
     "execution_count": 260,
     "metadata": {},
     "output_type": "execute_result"
    },
    {
     "data": {
      "image/png": "[encoded data removed]",
      "text/plain": [
       "<Figure size 720x432 with 1 Axes>"
      ]
     },
     "metadata": {
      "needs_background": "light"
     },
     "output_type": "display_data"
    }
   ],
   "source": [
    "data['distance'].plot(figsize=(10,6))"
   ]
  },
  {
   "cell_type": "code",
   "execution_count": 261,
   "metadata": {},
   "outputs": [
    {
     "data": {
      "text/html": [
       "<div>\n",
       "<style scoped>\n",
       "    .dataframe tbody tr th:only-of-type {\n",
       "        vertical-align: middle;\n",
       "    }\n",
       "\n",
       "    .dataframe tbody tr th {\n",
       "        vertical-align: top;\n",
       "    }\n",
       "\n",
       "    .dataframe thead th {\n",
       "        text-align: right;\n",
       "    }\n",
       "</style>\n",
       "<table border=\"1\" class=\"dataframe\">\n",
       "  <thead>\n",
       "    <tr style=\"text-align: right;\">\n",
       "      <th></th>\n",
       "      <th>Open</th>\n",
       "      <th>High</th>\n",
       "      <th>Low</th>\n",
       "      <th>Close</th>\n",
       "      <th>Volume</th>\n",
       "      <th>Amount</th>\n",
       "      <th>return</th>\n",
       "      <th>direction</th>\n",
       "      <th>lag_1</th>\n",
       "      <th>lag_2</th>\n",
       "      <th>lag_3</th>\n",
       "      <th>lag_4</th>\n",
       "      <th>lag_5</th>\n",
       "      <th>momentum</th>\n",
       "      <th>volatility</th>\n",
       "      <th>distance</th>\n",
       "    </tr>\n",
       "    <tr>\n",
       "      <th>Time</th>\n",
       "      <th></th>\n",
       "      <th></th>\n",
       "      <th></th>\n",
       "      <th></th>\n",
       "      <th></th>\n",
       "      <th></th>\n",
       "      <th></th>\n",
       "      <th></th>\n",
       "      <th></th>\n",
       "      <th></th>\n",
       "      <th></th>\n",
       "      <th></th>\n",
       "      <th></th>\n",
       "      <th></th>\n",
       "      <th></th>\n",
       "      <th></th>\n",
       "    </tr>\n",
       "  </thead>\n",
       "  <tbody>\n",
       "    <tr>\n",
       "      <th>01/01/2019 00:00</th>\n",
       "      <td>3700.1709</td>\n",
       "      <td>3714.5718</td>\n",
       "      <td>3690.5661</td>\n",
       "      <td>3700.3683</td>\n",
       "      <td>3.0644</td>\n",
       "      <td>11348.1603</td>\n",
       "      <td>NaN</td>\n",
       "      <td>0</td>\n",
       "      <td>NaN</td>\n",
       "      <td>NaN</td>\n",
       "      <td>NaN</td>\n",
       "      <td>NaN</td>\n",
       "      <td>NaN</td>\n",
       "      <td>NaN</td>\n",
       "      <td>NaN</td>\n",
       "      <td>NaN</td>\n",
       "    </tr>\n",
       "    <tr>\n",
       "      <th>01/01/2019 01:00</th>\n",
       "      <td>3701.6228</td>\n",
       "      <td>3702.0822</td>\n",
       "      <td>3685.7531</td>\n",
       "      <td>3687.6851</td>\n",
       "      <td>3.6307</td>\n",
       "      <td>13419.4868</td>\n",
       "      <td>-0.0034</td>\n",
       "      <td>0</td>\n",
       "      <td>NaN</td>\n",
       "      <td>NaN</td>\n",
       "      <td>NaN</td>\n",
       "      <td>NaN</td>\n",
       "      <td>NaN</td>\n",
       "      <td>NaN</td>\n",
       "      <td>NaN</td>\n",
       "      <td>NaN</td>\n",
       "    </tr>\n",
       "    <tr>\n",
       "      <th>01/01/2019 02:00</th>\n",
       "      <td>3687.5345</td>\n",
       "      <td>3692.8131</td>\n",
       "      <td>3679.9838</td>\n",
       "      <td>3687.8867</td>\n",
       "      <td>1.9861</td>\n",
       "      <td>7319.2636</td>\n",
       "      <td>0.0001</td>\n",
       "      <td>1</td>\n",
       "      <td>-0.0034</td>\n",
       "      <td>NaN</td>\n",
       "      <td>NaN</td>\n",
       "      <td>NaN</td>\n",
       "      <td>NaN</td>\n",
       "      <td>NaN</td>\n",
       "      <td>NaN</td>\n",
       "      <td>NaN</td>\n",
       "    </tr>\n",
       "    <tr>\n",
       "      <th>01/01/2019 03:00</th>\n",
       "      <td>3690.0000</td>\n",
       "      <td>3699.2613</td>\n",
       "      <td>3687.3615</td>\n",
       "      <td>3692.3558</td>\n",
       "      <td>4.5664</td>\n",
       "      <td>16853.7124</td>\n",
       "      <td>0.0012</td>\n",
       "      <td>1</td>\n",
       "      <td>0.0001</td>\n",
       "      <td>-0.0034</td>\n",
       "      <td>NaN</td>\n",
       "      <td>NaN</td>\n",
       "      <td>NaN</td>\n",
       "      <td>NaN</td>\n",
       "      <td>NaN</td>\n",
       "      <td>NaN</td>\n",
       "    </tr>\n",
       "    <tr>\n",
       "      <th>01/01/2019 04:00</th>\n",
       "      <td>3697.0000</td>\n",
       "      <td>3709.6029</td>\n",
       "      <td>3690.0000</td>\n",
       "      <td>3697.0334</td>\n",
       "      <td>1.2229</td>\n",
       "      <td>4526.6382</td>\n",
       "      <td>0.0013</td>\n",
       "      <td>1</td>\n",
       "      <td>0.0012</td>\n",
       "      <td>0.0001</td>\n",
       "      <td>-0.0034</td>\n",
       "      <td>NaN</td>\n",
       "      <td>NaN</td>\n",
       "      <td>NaN</td>\n",
       "      <td>NaN</td>\n",
       "      <td>NaN</td>\n",
       "    </tr>\n",
       "  </tbody>\n",
       "</table>\n",
       "</div>"
      ],
      "text/plain": [
       "                       Open       High        Low      Close  Volume  ...  lag_4  lag_5  momentum  volatility  distance\n",
       "Time                                                                  ...                                              \n",
       "01/01/2019 00:00  3700.1709  3714.5718  3690.5661  3700.3683  3.0644  ...    NaN    NaN       NaN         NaN       NaN\n",
       "01/01/2019 01:00  3701.6228  3702.0822  3685.7531  3687.6851  3.6307  ...    NaN    NaN       NaN         NaN       NaN\n",
       "01/01/2019 02:00  3687.5345  3692.8131  3679.9838  3687.8867  1.9861  ...    NaN    NaN       NaN         NaN       NaN\n",
       "01/01/2019 03:00  3690.0000  3699.2613  3687.3615  3692.3558  4.5664  ...    NaN    NaN       NaN         NaN       NaN\n",
       "01/01/2019 04:00  3697.0000  3709.6029  3690.0000  3697.0334  1.2229  ...    NaN    NaN       NaN         NaN       NaN\n",
       "\n",
       "[5 rows x 16 columns]"
      ]
     },
     "execution_count": 261,
     "metadata": {},
     "output_type": "execute_result"
    }
   ],
   "source": [
    "data.round(4).head()"
   ]
  },
  {
   "cell_type": "code",
   "execution_count": 262,
   "metadata": {},
   "outputs": [
    {
     "data": {
      "text/html": [
       "<div>\n",
       "<style scoped>\n",
       "    .dataframe tbody tr th:only-of-type {\n",
       "        vertical-align: middle;\n",
       "    }\n",
       "\n",
       "    .dataframe tbody tr th {\n",
       "        vertical-align: top;\n",
       "    }\n",
       "\n",
       "    .dataframe thead th {\n",
       "        text-align: right;\n",
       "    }\n",
       "</style>\n",
       "<table border=\"1\" class=\"dataframe\">\n",
       "  <thead>\n",
       "    <tr style=\"text-align: right;\">\n",
       "      <th></th>\n",
       "      <th>Open</th>\n",
       "      <th>High</th>\n",
       "      <th>Low</th>\n",
       "      <th>Close</th>\n",
       "      <th>Volume</th>\n",
       "      <th>Amount</th>\n",
       "      <th>return</th>\n",
       "      <th>direction</th>\n",
       "      <th>lag_1</th>\n",
       "      <th>lag_2</th>\n",
       "      <th>lag_3</th>\n",
       "      <th>lag_4</th>\n",
       "      <th>lag_5</th>\n",
       "      <th>momentum</th>\n",
       "      <th>volatility</th>\n",
       "      <th>distance</th>\n",
       "    </tr>\n",
       "    <tr>\n",
       "      <th>Time</th>\n",
       "      <th></th>\n",
       "      <th></th>\n",
       "      <th></th>\n",
       "      <th></th>\n",
       "      <th></th>\n",
       "      <th></th>\n",
       "      <th></th>\n",
       "      <th></th>\n",
       "      <th></th>\n",
       "      <th></th>\n",
       "      <th></th>\n",
       "      <th></th>\n",
       "      <th></th>\n",
       "      <th></th>\n",
       "      <th></th>\n",
       "      <th></th>\n",
       "    </tr>\n",
       "  </thead>\n",
       "  <tbody>\n",
       "    <tr>\n",
       "      <th>03/01/2019 02:00</th>\n",
       "      <td>3831.5200</td>\n",
       "      <td>3844.4278</td>\n",
       "      <td>3827.8686</td>\n",
       "      <td>3830.4819</td>\n",
       "      <td>3.0749</td>\n",
       "      <td>11787.0356</td>\n",
       "      <td>-0.0003</td>\n",
       "      <td>0</td>\n",
       "      <td>-0.0011</td>\n",
       "      <td>-0.0054</td>\n",
       "      <td>-0.0014</td>\n",
       "      <td>0.0016</td>\n",
       "      <td>0.0025</td>\n",
       "      <td>-0.0008</td>\n",
       "      <td>0.0039</td>\n",
       "      <td>74.0495</td>\n",
       "    </tr>\n",
       "    <tr>\n",
       "      <th>03/01/2019 03:00</th>\n",
       "      <td>3834.2616</td>\n",
       "      <td>3846.1419</td>\n",
       "      <td>3834.2616</td>\n",
       "      <td>3842.3300</td>\n",
       "      <td>3.0982</td>\n",
       "      <td>11903.7973</td>\n",
       "      <td>0.0031</td>\n",
       "      <td>1</td>\n",
       "      <td>-0.0003</td>\n",
       "      <td>-0.0011</td>\n",
       "      <td>-0.0054</td>\n",
       "      <td>-0.0014</td>\n",
       "      <td>0.0016</td>\n",
       "      <td>-0.0013</td>\n",
       "      <td>0.0036</td>\n",
       "      <td>83.2954</td>\n",
       "    </tr>\n",
       "    <tr>\n",
       "      <th>03/01/2019 04:00</th>\n",
       "      <td>3842.3300</td>\n",
       "      <td>3850.0000</td>\n",
       "      <td>3832.7045</td>\n",
       "      <td>3832.7045</td>\n",
       "      <td>8.9400</td>\n",
       "      <td>34365.7409</td>\n",
       "      <td>-0.0025</td>\n",
       "      <td>0</td>\n",
       "      <td>0.0031</td>\n",
       "      <td>-0.0003</td>\n",
       "      <td>-0.0011</td>\n",
       "      <td>-0.0054</td>\n",
       "      <td>-0.0014</td>\n",
       "      <td>-0.0010</td>\n",
       "      <td>0.0036</td>\n",
       "      <td>70.5770</td>\n",
       "    </tr>\n",
       "    <tr>\n",
       "      <th>03/01/2019 05:00</th>\n",
       "      <td>3832.7045</td>\n",
       "      <td>3840.0000</td>\n",
       "      <td>3809.4407</td>\n",
       "      <td>3823.2755</td>\n",
       "      <td>3.4146</td>\n",
       "      <td>13042.7354</td>\n",
       "      <td>-0.0025</td>\n",
       "      <td>0</td>\n",
       "      <td>-0.0025</td>\n",
       "      <td>0.0031</td>\n",
       "      <td>-0.0003</td>\n",
       "      <td>-0.0011</td>\n",
       "      <td>-0.0054</td>\n",
       "      <td>-0.0012</td>\n",
       "      <td>0.0037</td>\n",
       "      <td>58.2516</td>\n",
       "    </tr>\n",
       "    <tr>\n",
       "      <th>03/01/2019 06:00</th>\n",
       "      <td>3822.5831</td>\n",
       "      <td>3836.1886</td>\n",
       "      <td>3815.8429</td>\n",
       "      <td>3823.4137</td>\n",
       "      <td>7.7010</td>\n",
       "      <td>29479.6857</td>\n",
       "      <td>0.0000</td>\n",
       "      <td>1</td>\n",
       "      <td>-0.0025</td>\n",
       "      <td>-0.0025</td>\n",
       "      <td>0.0031</td>\n",
       "      <td>-0.0003</td>\n",
       "      <td>-0.0011</td>\n",
       "      <td>-0.0007</td>\n",
       "      <td>0.0037</td>\n",
       "      <td>55.7715</td>\n",
       "    </tr>\n",
       "  </tbody>\n",
       "</table>\n",
       "</div>"
      ],
      "text/plain": [
       "                       Open       High        Low      Close  Volume  ...   lag_4   lag_5  momentum  volatility  distance\n",
       "Time                                                                  ...                                                \n",
       "03/01/2019 02:00  3831.5200  3844.4278  3827.8686  3830.4819  3.0749  ...  0.0016  0.0025   -0.0008      0.0039   74.0495\n",
       "03/01/2019 03:00  3834.2616  3846.1419  3834.2616  3842.3300  3.0982  ... -0.0014  0.0016   -0.0013      0.0036   83.2954\n",
       "03/01/2019 04:00  3842.3300  3850.0000  3832.7045  3832.7045  8.9400  ... -0.0054 -0.0014   -0.0010      0.0036   70.5770\n",
       "03/01/2019 05:00  3832.7045  3840.0000  3809.4407  3823.2755  3.4146  ... -0.0011 -0.0054   -0.0012      0.0037   58.2516\n",
       "03/01/2019 06:00  3822.5831  3836.1886  3815.8429  3823.4137  7.7010  ... -0.0003 -0.0011   -0.0007      0.0037   55.7715\n",
       "\n",
       "[5 rows x 16 columns]"
      ]
     },
     "execution_count": 262,
     "metadata": {},
     "output_type": "execute_result"
    }
   ],
   "source": [
    "# Delete rows containing NaN values\n",
    "data.dropna(inplace=True)\n",
    "data.round(4).head()"
   ]
  },
  {
   "cell_type": "markdown",
   "metadata": {},
   "source": [
    "### Training and Test Data Sets"
   ]
  },
  {
   "cell_type": "code",
   "execution_count": 263,
   "metadata": {},
   "outputs": [],
   "source": [
    "train_size = 6000\n",
    "test_size = 720     # 30 Days"
   ]
  },
  {
   "cell_type": "code",
   "execution_count": 264,
   "metadata": {},
   "outputs": [
    {
     "data": {
      "text/html": [
       "<div>\n",
       "<style scoped>\n",
       "    .dataframe tbody tr th:only-of-type {\n",
       "        vertical-align: middle;\n",
       "    }\n",
       "\n",
       "    .dataframe tbody tr th {\n",
       "        vertical-align: top;\n",
       "    }\n",
       "\n",
       "    .dataframe thead th {\n",
       "        text-align: right;\n",
       "    }\n",
       "</style>\n",
       "<table border=\"1\" class=\"dataframe\">\n",
       "  <thead>\n",
       "    <tr style=\"text-align: right;\">\n",
       "      <th></th>\n",
       "      <th>lag_1</th>\n",
       "      <th>lag_2</th>\n",
       "      <th>lag_3</th>\n",
       "      <th>lag_4</th>\n",
       "      <th>lag_5</th>\n",
       "      <th>direction</th>\n",
       "    </tr>\n",
       "    <tr>\n",
       "      <th>Time</th>\n",
       "      <th></th>\n",
       "      <th></th>\n",
       "      <th></th>\n",
       "      <th></th>\n",
       "      <th></th>\n",
       "      <th></th>\n",
       "    </tr>\n",
       "  </thead>\n",
       "  <tbody>\n",
       "    <tr>\n",
       "      <th>03/01/2019 02:00</th>\n",
       "      <td>-0.0011</td>\n",
       "      <td>-0.0054</td>\n",
       "      <td>-0.0014</td>\n",
       "      <td>0.0016</td>\n",
       "      <td>0.0025</td>\n",
       "      <td>0</td>\n",
       "    </tr>\n",
       "    <tr>\n",
       "      <th>03/01/2019 03:00</th>\n",
       "      <td>-0.0003</td>\n",
       "      <td>-0.0011</td>\n",
       "      <td>-0.0054</td>\n",
       "      <td>-0.0014</td>\n",
       "      <td>0.0016</td>\n",
       "      <td>1</td>\n",
       "    </tr>\n",
       "    <tr>\n",
       "      <th>03/01/2019 04:00</th>\n",
       "      <td>0.0031</td>\n",
       "      <td>-0.0003</td>\n",
       "      <td>-0.0011</td>\n",
       "      <td>-0.0054</td>\n",
       "      <td>-0.0014</td>\n",
       "      <td>0</td>\n",
       "    </tr>\n",
       "    <tr>\n",
       "      <th>03/01/2019 05:00</th>\n",
       "      <td>-0.0025</td>\n",
       "      <td>0.0031</td>\n",
       "      <td>-0.0003</td>\n",
       "      <td>-0.0011</td>\n",
       "      <td>-0.0054</td>\n",
       "      <td>0</td>\n",
       "    </tr>\n",
       "    <tr>\n",
       "      <th>03/01/2019 06:00</th>\n",
       "      <td>-0.0025</td>\n",
       "      <td>-0.0025</td>\n",
       "      <td>0.0031</td>\n",
       "      <td>-0.0003</td>\n",
       "      <td>-0.0011</td>\n",
       "      <td>1</td>\n",
       "    </tr>\n",
       "  </tbody>\n",
       "</table>\n",
       "</div>"
      ],
      "text/plain": [
       "                   lag_1   lag_2   lag_3   lag_4   lag_5  direction\n",
       "Time                                                               \n",
       "03/01/2019 02:00 -0.0011 -0.0054 -0.0014  0.0016  0.0025          0\n",
       "03/01/2019 03:00 -0.0003 -0.0011 -0.0054 -0.0014  0.0016          1\n",
       "03/01/2019 04:00  0.0031 -0.0003 -0.0011 -0.0054 -0.0014          0\n",
       "03/01/2019 05:00 -0.0025  0.0031 -0.0003 -0.0011 -0.0054          0\n",
       "03/01/2019 06:00 -0.0025 -0.0025  0.0031 -0.0003 -0.0011          1"
      ]
     },
     "execution_count": 264,
     "metadata": {},
     "output_type": "execute_result"
    }
   ],
   "source": [
    "# dataset columns\n",
    "cols = features.copy()\n",
    "cols.append('direction')\n",
    "\n",
    "dataset = data[cols] # Leave the return column in this dataset as it will be required later.\n",
    "\n",
    "dataset.round(4).head()"
   ]
  },
  {
   "cell_type": "code",
   "execution_count": 265,
   "metadata": {},
   "outputs": [
    {
     "data": {
      "text/html": [
       "<div>\n",
       "<style scoped>\n",
       "    .dataframe tbody tr th:only-of-type {\n",
       "        vertical-align: middle;\n",
       "    }\n",
       "\n",
       "    .dataframe tbody tr th {\n",
       "        vertical-align: top;\n",
       "    }\n",
       "\n",
       "    .dataframe thead th {\n",
       "        text-align: right;\n",
       "    }\n",
       "</style>\n",
       "<table border=\"1\" class=\"dataframe\">\n",
       "  <thead>\n",
       "    <tr style=\"text-align: right;\">\n",
       "      <th></th>\n",
       "      <th>lag_1</th>\n",
       "      <th>lag_2</th>\n",
       "      <th>lag_3</th>\n",
       "      <th>lag_4</th>\n",
       "      <th>lag_5</th>\n",
       "      <th>direction</th>\n",
       "    </tr>\n",
       "    <tr>\n",
       "      <th>Time</th>\n",
       "      <th></th>\n",
       "      <th></th>\n",
       "      <th></th>\n",
       "      <th></th>\n",
       "      <th></th>\n",
       "      <th></th>\n",
       "    </tr>\n",
       "  </thead>\n",
       "  <tbody>\n",
       "    <tr>\n",
       "      <th>09/09/2019 21:00</th>\n",
       "      <td>-0.0080</td>\n",
       "      <td>0.0057</td>\n",
       "      <td>-0.0015</td>\n",
       "      <td>0.0013</td>\n",
       "      <td>-0.0060</td>\n",
       "      <td>1</td>\n",
       "    </tr>\n",
       "    <tr>\n",
       "      <th>09/09/2019 22:00</th>\n",
       "      <td>0.0053</td>\n",
       "      <td>-0.0080</td>\n",
       "      <td>0.0057</td>\n",
       "      <td>-0.0015</td>\n",
       "      <td>0.0013</td>\n",
       "      <td>1</td>\n",
       "    </tr>\n",
       "    <tr>\n",
       "      <th>09/09/2019 23:00</th>\n",
       "      <td>0.0051</td>\n",
       "      <td>0.0053</td>\n",
       "      <td>-0.0080</td>\n",
       "      <td>0.0057</td>\n",
       "      <td>-0.0015</td>\n",
       "      <td>0</td>\n",
       "    </tr>\n",
       "    <tr>\n",
       "      <th>10/09/2019 00:00</th>\n",
       "      <td>-0.0027</td>\n",
       "      <td>0.0051</td>\n",
       "      <td>0.0053</td>\n",
       "      <td>-0.0080</td>\n",
       "      <td>0.0057</td>\n",
       "      <td>1</td>\n",
       "    </tr>\n",
       "    <tr>\n",
       "      <th>10/09/2019 01:00</th>\n",
       "      <td>0.0030</td>\n",
       "      <td>-0.0027</td>\n",
       "      <td>0.0051</td>\n",
       "      <td>0.0053</td>\n",
       "      <td>-0.0080</td>\n",
       "      <td>0</td>\n",
       "    </tr>\n",
       "  </tbody>\n",
       "</table>\n",
       "</div>"
      ],
      "text/plain": [
       "                   lag_1   lag_2   lag_3   lag_4   lag_5  direction\n",
       "Time                                                               \n",
       "09/09/2019 21:00 -0.0080  0.0057 -0.0015  0.0013 -0.0060          1\n",
       "09/09/2019 22:00  0.0053 -0.0080  0.0057 -0.0015  0.0013          1\n",
       "09/09/2019 23:00  0.0051  0.0053 -0.0080  0.0057 -0.0015          0\n",
       "10/09/2019 00:00 -0.0027  0.0051  0.0053 -0.0080  0.0057          1\n",
       "10/09/2019 01:00  0.0030 -0.0027  0.0051  0.0053 -0.0080          0"
      ]
     },
     "execution_count": 265,
     "metadata": {},
     "output_type": "execute_result"
    }
   ],
   "source": [
    "# Training Dataset\n",
    "training_data = dataset[:train_size].copy()\n",
    "\n",
    "training_data.round(4).tail()"
   ]
  },
  {
   "cell_type": "code",
   "execution_count": 266,
   "metadata": {},
   "outputs": [
    {
     "data": {
      "text/html": [
       "<div>\n",
       "<style scoped>\n",
       "    .dataframe tbody tr th:only-of-type {\n",
       "        vertical-align: middle;\n",
       "    }\n",
       "\n",
       "    .dataframe tbody tr th {\n",
       "        vertical-align: top;\n",
       "    }\n",
       "\n",
       "    .dataframe thead th {\n",
       "        text-align: right;\n",
       "    }\n",
       "</style>\n",
       "<table border=\"1\" class=\"dataframe\">\n",
       "  <thead>\n",
       "    <tr style=\"text-align: right;\">\n",
       "      <th></th>\n",
       "      <th>lag_1</th>\n",
       "      <th>lag_2</th>\n",
       "      <th>lag_3</th>\n",
       "      <th>lag_4</th>\n",
       "      <th>lag_5</th>\n",
       "      <th>direction</th>\n",
       "    </tr>\n",
       "    <tr>\n",
       "      <th>Time</th>\n",
       "      <th></th>\n",
       "      <th></th>\n",
       "      <th></th>\n",
       "      <th></th>\n",
       "      <th></th>\n",
       "      <th></th>\n",
       "    </tr>\n",
       "  </thead>\n",
       "  <tbody>\n",
       "    <tr>\n",
       "      <th>10/09/2019 02:00</th>\n",
       "      <td>-0.0006</td>\n",
       "      <td>0.0030</td>\n",
       "      <td>-0.0027</td>\n",
       "      <td>0.0051</td>\n",
       "      <td>0.0053</td>\n",
       "      <td>0</td>\n",
       "    </tr>\n",
       "    <tr>\n",
       "      <th>10/09/2019 03:00</th>\n",
       "      <td>-0.0046</td>\n",
       "      <td>-0.0006</td>\n",
       "      <td>0.0030</td>\n",
       "      <td>-0.0027</td>\n",
       "      <td>0.0051</td>\n",
       "      <td>1</td>\n",
       "    </tr>\n",
       "    <tr>\n",
       "      <th>10/09/2019 04:00</th>\n",
       "      <td>0.0023</td>\n",
       "      <td>-0.0046</td>\n",
       "      <td>-0.0006</td>\n",
       "      <td>0.0030</td>\n",
       "      <td>-0.0027</td>\n",
       "      <td>0</td>\n",
       "    </tr>\n",
       "    <tr>\n",
       "      <th>10/09/2019 05:00</th>\n",
       "      <td>-0.0004</td>\n",
       "      <td>0.0023</td>\n",
       "      <td>-0.0046</td>\n",
       "      <td>-0.0006</td>\n",
       "      <td>0.0030</td>\n",
       "      <td>0</td>\n",
       "    </tr>\n",
       "    <tr>\n",
       "      <th>10/09/2019 06:00</th>\n",
       "      <td>-0.0037</td>\n",
       "      <td>-0.0004</td>\n",
       "      <td>0.0023</td>\n",
       "      <td>-0.0046</td>\n",
       "      <td>-0.0006</td>\n",
       "      <td>1</td>\n",
       "    </tr>\n",
       "  </tbody>\n",
       "</table>\n",
       "</div>"
      ],
      "text/plain": [
       "                   lag_1   lag_2   lag_3   lag_4   lag_5  direction\n",
       "Time                                                               \n",
       "10/09/2019 02:00 -0.0006  0.0030 -0.0027  0.0051  0.0053          0\n",
       "10/09/2019 03:00 -0.0046 -0.0006  0.0030 -0.0027  0.0051          1\n",
       "10/09/2019 04:00  0.0023 -0.0046 -0.0006  0.0030 -0.0027          0\n",
       "10/09/2019 05:00 -0.0004  0.0023 -0.0046 -0.0006  0.0030          0\n",
       "10/09/2019 06:00 -0.0037 -0.0004  0.0023 -0.0046 -0.0006          1"
      ]
     },
     "execution_count": 266,
     "metadata": {},
     "output_type": "execute_result"
    }
   ],
   "source": [
    "# Test Dataset\n",
    "test_data = dataset[train_size:(train_size+test_size)].copy()\n",
    "\n",
    "test_data.round(4).head()"
   ]
  },
  {
   "cell_type": "code",
   "execution_count": 267,
   "metadata": {},
   "outputs": [
    {
     "data": {
      "text/html": [
       "<div>\n",
       "<style scoped>\n",
       "    .dataframe tbody tr th:only-of-type {\n",
       "        vertical-align: middle;\n",
       "    }\n",
       "\n",
       "    .dataframe tbody tr th {\n",
       "        vertical-align: top;\n",
       "    }\n",
       "\n",
       "    .dataframe thead th {\n",
       "        text-align: right;\n",
       "    }\n",
       "</style>\n",
       "<table border=\"1\" class=\"dataframe\">\n",
       "  <thead>\n",
       "    <tr style=\"text-align: right;\">\n",
       "      <th></th>\n",
       "      <th>lag_1</th>\n",
       "      <th>lag_2</th>\n",
       "      <th>lag_3</th>\n",
       "      <th>lag_4</th>\n",
       "      <th>lag_5</th>\n",
       "      <th>direction</th>\n",
       "    </tr>\n",
       "    <tr>\n",
       "      <th>Time</th>\n",
       "      <th></th>\n",
       "      <th></th>\n",
       "      <th></th>\n",
       "      <th></th>\n",
       "      <th></th>\n",
       "      <th></th>\n",
       "    </tr>\n",
       "  </thead>\n",
       "  <tbody>\n",
       "    <tr>\n",
       "      <th>03/01/2019 02:00</th>\n",
       "      <td>-0.1736</td>\n",
       "      <td>-0.7515</td>\n",
       "      <td>-0.2187</td>\n",
       "      <td>0.1841</td>\n",
       "      <td>0.3171</td>\n",
       "      <td>-1.0498</td>\n",
       "    </tr>\n",
       "    <tr>\n",
       "      <th>03/01/2019 03:00</th>\n",
       "      <td>-0.0666</td>\n",
       "      <td>-0.1734</td>\n",
       "      <td>-0.7515</td>\n",
       "      <td>-0.2186</td>\n",
       "      <td>0.1841</td>\n",
       "      <td>0.9524</td>\n",
       "    </tr>\n",
       "    <tr>\n",
       "      <th>03/01/2019 04:00</th>\n",
       "      <td>0.3924</td>\n",
       "      <td>-0.0664</td>\n",
       "      <td>-0.1735</td>\n",
       "      <td>-0.7515</td>\n",
       "      <td>-0.2185</td>\n",
       "      <td>-1.0498</td>\n",
       "    </tr>\n",
       "    <tr>\n",
       "      <th>03/01/2019 05:00</th>\n",
       "      <td>-0.3649</td>\n",
       "      <td>0.3925</td>\n",
       "      <td>-0.0664</td>\n",
       "      <td>-0.1734</td>\n",
       "      <td>-0.7515</td>\n",
       "      <td>-1.0498</td>\n",
       "    </tr>\n",
       "    <tr>\n",
       "      <th>03/01/2019 06:00</th>\n",
       "      <td>-0.3588</td>\n",
       "      <td>-0.3647</td>\n",
       "      <td>0.3925</td>\n",
       "      <td>-0.0663</td>\n",
       "      <td>-0.1733</td>\n",
       "      <td>0.9524</td>\n",
       "    </tr>\n",
       "  </tbody>\n",
       "</table>\n",
       "</div>"
      ],
      "text/plain": [
       "                   lag_1   lag_2   lag_3   lag_4   lag_5  direction\n",
       "Time                                                               \n",
       "03/01/2019 02:00 -0.1736 -0.7515 -0.2187  0.1841  0.3171    -1.0498\n",
       "03/01/2019 03:00 -0.0666 -0.1734 -0.7515 -0.2186  0.1841     0.9524\n",
       "03/01/2019 04:00  0.3924 -0.0664 -0.1735 -0.7515 -0.2185    -1.0498\n",
       "03/01/2019 05:00 -0.3649  0.3925 -0.0664 -0.1734 -0.7515    -1.0498\n",
       "03/01/2019 06:00 -0.3588 -0.3647  0.3925 -0.0663 -0.1733     0.9524"
      ]
     },
     "execution_count": 267,
     "metadata": {},
     "output_type": "execute_result"
    }
   ],
   "source": [
    "# Standardize the datasets\n",
    "mu, std = training_data.mean(), training_data.std()\n",
    "\n",
    "training_data_ = (training_data - mu)/std\n",
    "\n",
    "training_data_.round(4).head()"
   ]
  },
  {
   "cell_type": "code",
   "execution_count": 268,
   "metadata": {},
   "outputs": [
    {
     "data": {
      "text/html": [
       "<div>\n",
       "<style scoped>\n",
       "    .dataframe tbody tr th:only-of-type {\n",
       "        vertical-align: middle;\n",
       "    }\n",
       "\n",
       "    .dataframe tbody tr th {\n",
       "        vertical-align: top;\n",
       "    }\n",
       "\n",
       "    .dataframe thead th {\n",
       "        text-align: right;\n",
       "    }\n",
       "</style>\n",
       "<table border=\"1\" class=\"dataframe\">\n",
       "  <thead>\n",
       "    <tr style=\"text-align: right;\">\n",
       "      <th></th>\n",
       "      <th>lag_1</th>\n",
       "      <th>lag_2</th>\n",
       "      <th>lag_3</th>\n",
       "      <th>lag_4</th>\n",
       "      <th>lag_5</th>\n",
       "      <th>direction</th>\n",
       "    </tr>\n",
       "    <tr>\n",
       "      <th>Time</th>\n",
       "      <th></th>\n",
       "      <th></th>\n",
       "      <th></th>\n",
       "      <th></th>\n",
       "      <th></th>\n",
       "      <th></th>\n",
       "    </tr>\n",
       "  </thead>\n",
       "  <tbody>\n",
       "    <tr>\n",
       "      <th>10/09/2019 02:00</th>\n",
       "      <td>-0.1072</td>\n",
       "      <td>0.3758</td>\n",
       "      <td>-0.3898</td>\n",
       "      <td>0.6623</td>\n",
       "      <td>0.6925</td>\n",
       "      <td>-1.0498</td>\n",
       "    </tr>\n",
       "    <tr>\n",
       "      <th>10/09/2019 03:00</th>\n",
       "      <td>-0.6454</td>\n",
       "      <td>-0.1070</td>\n",
       "      <td>0.3758</td>\n",
       "      <td>-0.3897</td>\n",
       "      <td>0.6624</td>\n",
       "      <td>0.9524</td>\n",
       "    </tr>\n",
       "    <tr>\n",
       "      <th>10/09/2019 04:00</th>\n",
       "      <td>0.2857</td>\n",
       "      <td>-0.6452</td>\n",
       "      <td>-0.1070</td>\n",
       "      <td>0.3759</td>\n",
       "      <td>-0.3897</td>\n",
       "      <td>-1.0498</td>\n",
       "    </tr>\n",
       "    <tr>\n",
       "      <th>10/09/2019 05:00</th>\n",
       "      <td>-0.0851</td>\n",
       "      <td>0.2859</td>\n",
       "      <td>-0.6453</td>\n",
       "      <td>-0.1069</td>\n",
       "      <td>0.3759</td>\n",
       "      <td>-1.0498</td>\n",
       "    </tr>\n",
       "    <tr>\n",
       "      <th>10/09/2019 06:00</th>\n",
       "      <td>-0.5316</td>\n",
       "      <td>-0.0849</td>\n",
       "      <td>0.2859</td>\n",
       "      <td>-0.6452</td>\n",
       "      <td>-0.1069</td>\n",
       "      <td>0.9524</td>\n",
       "    </tr>\n",
       "  </tbody>\n",
       "</table>\n",
       "</div>"
      ],
      "text/plain": [
       "                   lag_1   lag_2   lag_3   lag_4   lag_5  direction\n",
       "Time                                                               \n",
       "10/09/2019 02:00 -0.1072  0.3758 -0.3898  0.6623  0.6925    -1.0498\n",
       "10/09/2019 03:00 -0.6454 -0.1070  0.3758 -0.3897  0.6624     0.9524\n",
       "10/09/2019 04:00  0.2857 -0.6452 -0.1070  0.3759 -0.3897    -1.0498\n",
       "10/09/2019 05:00 -0.0851  0.2859 -0.6453 -0.1069  0.3759    -1.0498\n",
       "10/09/2019 06:00 -0.5316 -0.0849  0.2859 -0.6452 -0.1069     0.9524"
      ]
     },
     "execution_count": 268,
     "metadata": {},
     "output_type": "execute_result"
    }
   ],
   "source": [
    "# Standardize the test dataset\n",
    "test_data_ = (test_data - mu)/std\n",
    "\n",
    "test_data_.round(4).head()"
   ]
  },
  {
   "cell_type": "markdown",
   "metadata": {},
   "source": [
    "### The Model"
   ]
  },
  {
   "cell_type": "code",
   "execution_count": 269,
   "metadata": {},
   "outputs": [],
   "source": [
    "# Specify the optimizer\n",
    "optimizer = Adam(learning_rate=0.0001)"
   ]
  },
  {
   "cell_type": "code",
   "execution_count": 270,
   "metadata": {},
   "outputs": [],
   "source": [
    "# Set seeds\n",
    "def set_seeds(seed=100):\n",
    "    #random.seed(seed)\n",
    "    np.random.seed(seed)\n",
    "    tf.random.set_seed(100)\n",
    "    \n",
    "set_seeds()"
   ]
  },
  {
   "cell_type": "code",
   "execution_count": 271,
   "metadata": {},
   "outputs": [],
   "source": [
    "# Specify the Model\n",
    "model = Sequential()\n",
    "model.add(Dense(64, activation='relu', input_shape=(len(features),)))\n",
    "model.add(Dense(64, activation='relu'))\n",
    "model.add(Dense(1, activation='sigmoid'))\n",
    "model.compile(optimizer=optimizer,\n",
    "             loss='binary_crossentropy',\n",
    "             metrics=['accuracy'])"
   ]
  },
  {
   "cell_type": "code",
   "execution_count": 272,
   "metadata": {},
   "outputs": [
    {
     "name": "stdout",
     "output_type": "stream",
     "text": [
      "Wall time: 9.89 s\n"
     ]
    },
    {
     "data": {
      "text/plain": [
       "<keras.callbacks.callbacks.History at 0x1705b32c948>"
      ]
     },
     "execution_count": 272,
     "metadata": {},
     "output_type": "execute_result"
    }
   ],
   "source": [
    "%%time\n",
    "# Fit the Model\n",
    "model.fit(training_data_[features], \n",
    "          training_data['direction'],\n",
    "         epochs=50, verbose=False,\n",
    "         validation_split=0.2, shuffle=False)"
   ]
  },
  {
   "cell_type": "code",
   "execution_count": 273,
   "metadata": {},
   "outputs": [
    {
     "data": {
      "text/plain": [
       "<matplotlib.axes._subplots.AxesSubplot at 0x1705b3c2588>"
      ]
     },
     "execution_count": 273,
     "metadata": {},
     "output_type": "execute_result"
    },
    {
     "data": {
      "image/png": "[encoded data removed]",
      "text/plain": [
       "<Figure size 720x432 with 1 Axes>"
      ]
     },
     "metadata": {
      "needs_background": "light"
     },
     "output_type": "display_data"
    }
   ],
   "source": [
    "res = pd.DataFrame(model.history.history)\n",
    "\n",
    "res[['accuracy', 'val_accuracy']].plot(figsize=(10,6), style='--')"
   ]
  },
  {
   "cell_type": "code",
   "execution_count": 274,
   "metadata": {},
   "outputs": [
    {
     "name": "stdout",
     "output_type": "stream",
     "text": [
      "6000/6000 [==============================] - 0s 20us/step\n"
     ]
    },
    {
     "data": {
      "text/plain": [
       "[0.6720658930142721, 0.5761666893959045]"
      ]
     },
     "execution_count": 274,
     "metadata": {},
     "output_type": "execute_result"
    }
   ],
   "source": [
    "# Evaluate model\n",
    "model.evaluate(training_data_[features], training_data['direction'])"
   ]
  },
  {
   "cell_type": "code",
   "execution_count": 275,
   "metadata": {},
   "outputs": [
    {
     "data": {
      "text/plain": [
       "array([1, 1, 1, 1, 1, 1, 0, 1, 1, 1, 1, 1, 0, 1, 1, 1, 1, 1, 1, 0, 1, 1,\n",
       "       1, 1, 1, 1, 1, 1, 0, 0])"
      ]
     },
     "execution_count": 275,
     "metadata": {},
     "output_type": "execute_result"
    }
   ],
   "source": [
    "# Predictions\n",
    "pred = np.where(model.predict(training_data_[features]) > 0.5, 1, 0)\n",
    "pred[:30].flatten()"
   ]
  },
  {
   "cell_type": "code",
   "execution_count": 276,
   "metadata": {},
   "outputs": [
    {
     "data": {
      "text/html": [
       "<div>\n",
       "<style scoped>\n",
       "    .dataframe tbody tr th:only-of-type {\n",
       "        vertical-align: middle;\n",
       "    }\n",
       "\n",
       "    .dataframe tbody tr th {\n",
       "        vertical-align: top;\n",
       "    }\n",
       "\n",
       "    .dataframe thead th {\n",
       "        text-align: right;\n",
       "    }\n",
       "</style>\n",
       "<table border=\"1\" class=\"dataframe\">\n",
       "  <thead>\n",
       "    <tr style=\"text-align: right;\">\n",
       "      <th></th>\n",
       "      <th>lag_1</th>\n",
       "      <th>lag_2</th>\n",
       "      <th>lag_3</th>\n",
       "      <th>lag_4</th>\n",
       "      <th>lag_5</th>\n",
       "      <th>direction</th>\n",
       "      <th>prediction</th>\n",
       "      <th>return</th>\n",
       "      <th>strategy</th>\n",
       "    </tr>\n",
       "    <tr>\n",
       "      <th>Time</th>\n",
       "      <th></th>\n",
       "      <th></th>\n",
       "      <th></th>\n",
       "      <th></th>\n",
       "      <th></th>\n",
       "      <th></th>\n",
       "      <th></th>\n",
       "      <th></th>\n",
       "      <th></th>\n",
       "    </tr>\n",
       "  </thead>\n",
       "  <tbody>\n",
       "    <tr>\n",
       "      <th>03/01/2019 02:00</th>\n",
       "      <td>-0.001091</td>\n",
       "      <td>-0.005365</td>\n",
       "      <td>-0.001425</td>\n",
       "      <td>0.001551</td>\n",
       "      <td>0.002534</td>\n",
       "      <td>0</td>\n",
       "      <td>1</td>\n",
       "      <td>-0.000300</td>\n",
       "      <td>-0.000300</td>\n",
       "    </tr>\n",
       "    <tr>\n",
       "      <th>03/01/2019 03:00</th>\n",
       "      <td>-0.000300</td>\n",
       "      <td>-0.001091</td>\n",
       "      <td>-0.005365</td>\n",
       "      <td>-0.001425</td>\n",
       "      <td>0.001551</td>\n",
       "      <td>1</td>\n",
       "      <td>1</td>\n",
       "      <td>0.003093</td>\n",
       "      <td>0.003093</td>\n",
       "    </tr>\n",
       "    <tr>\n",
       "      <th>03/01/2019 04:00</th>\n",
       "      <td>0.003093</td>\n",
       "      <td>-0.000300</td>\n",
       "      <td>-0.001091</td>\n",
       "      <td>-0.005365</td>\n",
       "      <td>-0.001425</td>\n",
       "      <td>0</td>\n",
       "      <td>1</td>\n",
       "      <td>-0.002505</td>\n",
       "      <td>-0.002505</td>\n",
       "    </tr>\n",
       "    <tr>\n",
       "      <th>03/01/2019 05:00</th>\n",
       "      <td>-0.002505</td>\n",
       "      <td>0.003093</td>\n",
       "      <td>-0.000300</td>\n",
       "      <td>-0.001091</td>\n",
       "      <td>-0.005365</td>\n",
       "      <td>0</td>\n",
       "      <td>1</td>\n",
       "      <td>-0.002460</td>\n",
       "      <td>-0.002460</td>\n",
       "    </tr>\n",
       "    <tr>\n",
       "      <th>03/01/2019 06:00</th>\n",
       "      <td>-0.002460</td>\n",
       "      <td>-0.002505</td>\n",
       "      <td>0.003093</td>\n",
       "      <td>-0.000300</td>\n",
       "      <td>-0.001091</td>\n",
       "      <td>1</td>\n",
       "      <td>1</td>\n",
       "      <td>0.000036</td>\n",
       "      <td>0.000036</td>\n",
       "    </tr>\n",
       "  </tbody>\n",
       "</table>\n",
       "</div>"
      ],
      "text/plain": [
       "                     lag_1     lag_2     lag_3     lag_4     lag_5  direction  prediction    return  strategy\n",
       "Time                                                                                                         \n",
       "03/01/2019 02:00 -0.001091 -0.005365 -0.001425  0.001551  0.002534          0           1 -0.000300 -0.000300\n",
       "03/01/2019 03:00 -0.000300 -0.001091 -0.005365 -0.001425  0.001551          1           1  0.003093  0.003093\n",
       "03/01/2019 04:00  0.003093 -0.000300 -0.001091 -0.005365 -0.001425          0           1 -0.002505 -0.002505\n",
       "03/01/2019 05:00 -0.002505  0.003093 -0.000300 -0.001091 -0.005365          0           1 -0.002460 -0.002460\n",
       "03/01/2019 06:00 -0.002460 -0.002505  0.003093 -0.000300 -0.001091          1           1  0.000036  0.000036"
      ]
     },
     "execution_count": 276,
     "metadata": {},
     "output_type": "execute_result"
    }
   ],
   "source": [
    "# Calculate the strategy returns given the positions\n",
    "\n",
    "training_data['prediction'] = np.where(pred > 0, 1, -1)\n",
    "\n",
    "# add return column to training_data\n",
    "training_data['return'] = data[:train_size]['return']\n",
    "\n",
    "# strategy returns\n",
    "training_data['strategy'] = (training_data['prediction'] * training_data['return'])\n",
    "\n",
    "training_data.head()"
   ]
  },
  {
   "cell_type": "code",
   "execution_count": 277,
   "metadata": {},
   "outputs": [
    {
     "data": {
      "text/plain": [
       "return       2.695928\n",
       "strategy    16.566785\n",
       "dtype: float64"
      ]
     },
     "execution_count": 277,
     "metadata": {},
     "output_type": "execute_result"
    }
   ],
   "source": [
    "# Total return\n",
    "(1 + training_data[['return','strategy']]).prod()"
   ]
  },
  {
   "cell_type": "code",
   "execution_count": 278,
   "metadata": {},
   "outputs": [],
   "source": [
    "# Export to check in excel:\n"
   ]
  },
  {
   "cell_type": "code",
   "execution_count": 279,
   "metadata": {},
   "outputs": [
    {
     "data": {
      "text/plain": [
       "<matplotlib.axes._subplots.AxesSubplot at 0x1705c1ba648>"
      ]
     },
     "execution_count": 279,
     "metadata": {},
     "output_type": "execute_result"
    },
    {
     "data": {
      "image/png": "[encoded data removed]",
      "text/plain": [
       "<Figure size 720x432 with 1 Axes>"
      ]
     },
     "metadata": {
      "needs_background": "light"
     },
     "output_type": "display_data"
    }
   ],
   "source": [
    "# Plot strategy performance (in-sample)\n",
    "(1 + training_data[['return','strategy']]).cumprod().plot(figsize=(10,6))"
   ]
  },
  {
   "cell_type": "markdown",
   "metadata": {},
   "source": [
    "#### Perfomance of model on Test Data"
   ]
  },
  {
   "cell_type": "code",
   "execution_count": 280,
   "metadata": {},
   "outputs": [
    {
     "name": "stdout",
     "output_type": "stream",
     "text": [
      "720/720 [==============================] - 0s 35us/step\n"
     ]
    },
    {
     "data": {
      "text/plain": [
       "[0.6973613566822476, 0.5236111283302307]"
      ]
     },
     "execution_count": 280,
     "metadata": {},
     "output_type": "execute_result"
    }
   ],
   "source": [
    "# Perfomance of model on test data\n",
    "model.evaluate(test_data_[features], test_data['direction'])"
   ]
  },
  {
   "cell_type": "code",
   "execution_count": 281,
   "metadata": {},
   "outputs": [
    {
     "data": {
      "text/plain": [
       " 1    537\n",
       "-1    183\n",
       "Name: prediction, dtype: int64"
      ]
     },
     "execution_count": 281,
     "metadata": {},
     "output_type": "execute_result"
    }
   ],
   "source": [
    "# Predictions\n",
    "pred = np.where(model.predict(test_data_[features]) > 0.5, 1, 0)\n",
    "\n",
    "test_data['prediction'] = np.where(pred > 0 , 1, -1)\n",
    "\n",
    "test_data['prediction'].value_counts()"
   ]
  },
  {
   "cell_type": "code",
   "execution_count": 282,
   "metadata": {},
   "outputs": [
    {
     "data": {
      "text/plain": [
       "return      0.825805\n",
       "strategy    0.888871\n",
       "dtype: float64"
      ]
     },
     "execution_count": 282,
     "metadata": {},
     "output_type": "execute_result"
    }
   ],
   "source": [
    "# Add returns column\n",
    "test_data['return'] = data[train_size:(train_size + test_size)]['return']\n",
    "\n",
    "# Calculate strategy returns\n",
    "test_data['strategy'] = (test_data['prediction'] * test_data['return'])\n",
    "\n",
    "(1 + test_data[['return','strategy']]).prod()"
   ]
  },
  {
   "cell_type": "code",
   "execution_count": 283,
   "metadata": {},
   "outputs": [
    {
     "data": {
      "text/plain": [
       "<matplotlib.axes._subplots.AxesSubplot at 0x1705b478a48>"
      ]
     },
     "execution_count": 283,
     "metadata": {},
     "output_type": "execute_result"
    },
    {
     "data": {
      "image/png": "[encoded data removed]",
      "text/plain": [
       "<Figure size 720x432 with 1 Axes>"
      ]
     },
     "metadata": {
      "needs_background": "light"
     },
     "output_type": "display_data"
    }
   ],
   "source": [
    "# Plot strategy performance\n",
    "(1 + test_data[['return','strategy']]).cumprod().plot(figsize=(10,6))"
   ]
  },
  {
   "cell_type": "markdown",
   "metadata": {},
   "source": [
    "#### Additional Features"
   ]
  },
  {
   "cell_type": "code",
   "execution_count": 284,
   "metadata": {},
   "outputs": [
    {
     "name": "stderr",
     "output_type": "stream",
     "text": [
      "C:\\Users\\paul208\\AppData\\Local\\Continuum\\anaconda3\\lib\\site-packages\\ipykernel_launcher.py:8: SettingWithCopyWarning: \n",
      "A value is trying to be set on a copy of a slice from a DataFrame\n",
      "\n",
      "See the caveats in the documentation: https://pandas.pydata.org/pandas-docs/stable/user_guide/indexing.html#returning-a-view-versus-a-copy\n",
      "  \n"
     ]
    },
    {
     "data": {
      "text/html": [
       "<div>\n",
       "<style scoped>\n",
       "    .dataframe tbody tr th:only-of-type {\n",
       "        vertical-align: middle;\n",
       "    }\n",
       "\n",
       "    .dataframe tbody tr th {\n",
       "        vertical-align: top;\n",
       "    }\n",
       "\n",
       "    .dataframe thead th {\n",
       "        text-align: right;\n",
       "    }\n",
       "</style>\n",
       "<table border=\"1\" class=\"dataframe\">\n",
       "  <thead>\n",
       "    <tr style=\"text-align: right;\">\n",
       "      <th></th>\n",
       "      <th>lag_1</th>\n",
       "      <th>lag_2</th>\n",
       "      <th>lag_3</th>\n",
       "      <th>lag_4</th>\n",
       "      <th>lag_5</th>\n",
       "      <th>momentum</th>\n",
       "      <th>volatility</th>\n",
       "      <th>distance</th>\n",
       "      <th>direction</th>\n",
       "    </tr>\n",
       "    <tr>\n",
       "      <th>Time</th>\n",
       "      <th></th>\n",
       "      <th></th>\n",
       "      <th></th>\n",
       "      <th></th>\n",
       "      <th></th>\n",
       "      <th></th>\n",
       "      <th></th>\n",
       "      <th></th>\n",
       "      <th></th>\n",
       "    </tr>\n",
       "  </thead>\n",
       "  <tbody>\n",
       "    <tr>\n",
       "      <th>03/01/2019 02:00</th>\n",
       "      <td>-0.0011</td>\n",
       "      <td>-0.0054</td>\n",
       "      <td>-0.0014</td>\n",
       "      <td>0.0016</td>\n",
       "      <td>0.0025</td>\n",
       "      <td>-0.0008</td>\n",
       "      <td>0.0039</td>\n",
       "      <td>74.0495</td>\n",
       "      <td>0</td>\n",
       "    </tr>\n",
       "    <tr>\n",
       "      <th>03/01/2019 03:00</th>\n",
       "      <td>-0.0003</td>\n",
       "      <td>-0.0011</td>\n",
       "      <td>-0.0054</td>\n",
       "      <td>-0.0014</td>\n",
       "      <td>0.0016</td>\n",
       "      <td>-0.0013</td>\n",
       "      <td>0.0036</td>\n",
       "      <td>83.2954</td>\n",
       "      <td>1</td>\n",
       "    </tr>\n",
       "    <tr>\n",
       "      <th>03/01/2019 04:00</th>\n",
       "      <td>0.0031</td>\n",
       "      <td>-0.0003</td>\n",
       "      <td>-0.0011</td>\n",
       "      <td>-0.0054</td>\n",
       "      <td>-0.0014</td>\n",
       "      <td>-0.0010</td>\n",
       "      <td>0.0036</td>\n",
       "      <td>70.5770</td>\n",
       "      <td>0</td>\n",
       "    </tr>\n",
       "    <tr>\n",
       "      <th>03/01/2019 05:00</th>\n",
       "      <td>-0.0025</td>\n",
       "      <td>0.0031</td>\n",
       "      <td>-0.0003</td>\n",
       "      <td>-0.0011</td>\n",
       "      <td>-0.0054</td>\n",
       "      <td>-0.0012</td>\n",
       "      <td>0.0037</td>\n",
       "      <td>58.2516</td>\n",
       "      <td>0</td>\n",
       "    </tr>\n",
       "    <tr>\n",
       "      <th>03/01/2019 06:00</th>\n",
       "      <td>-0.0025</td>\n",
       "      <td>-0.0025</td>\n",
       "      <td>0.0031</td>\n",
       "      <td>-0.0003</td>\n",
       "      <td>-0.0011</td>\n",
       "      <td>-0.0007</td>\n",
       "      <td>0.0037</td>\n",
       "      <td>55.7715</td>\n",
       "      <td>1</td>\n",
       "    </tr>\n",
       "  </tbody>\n",
       "</table>\n",
       "</div>"
      ],
      "text/plain": [
       "                   lag_1   lag_2   lag_3   lag_4   lag_5  momentum  volatility  distance  direction\n",
       "Time                                                                                               \n",
       "03/01/2019 02:00 -0.0011 -0.0054 -0.0014  0.0016  0.0025   -0.0008      0.0039   74.0495          0\n",
       "03/01/2019 03:00 -0.0003 -0.0011 -0.0054 -0.0014  0.0016   -0.0013      0.0036   83.2954          1\n",
       "03/01/2019 04:00  0.0031 -0.0003 -0.0011 -0.0054 -0.0014   -0.0010      0.0036   70.5770          0\n",
       "03/01/2019 05:00 -0.0025  0.0031 -0.0003 -0.0011 -0.0054   -0.0012      0.0037   58.2516          0\n",
       "03/01/2019 06:00 -0.0025 -0.0025  0.0031 -0.0003 -0.0011   -0.0007      0.0037   55.7715          1"
      ]
     },
     "execution_count": 284,
     "metadata": {},
     "output_type": "execute_result"
    }
   ],
   "source": [
    "# dataset columns\n",
    "features.extend(['momentum', 'volatility', 'distance'])\n",
    "cols = features.copy()\n",
    "cols.append('direction')\n",
    "\n",
    "dataset = data[cols] # Leave the return column in this dataset as it will be required later.\n",
    "\n",
    "dataset.dropna(inplace=True)\n",
    "\n",
    "dataset.round(4).head()"
   ]
  },
  {
   "cell_type": "code",
   "execution_count": 285,
   "metadata": {},
   "outputs": [
    {
     "data": {
      "text/html": [
       "<div>\n",
       "<style scoped>\n",
       "    .dataframe tbody tr th:only-of-type {\n",
       "        vertical-align: middle;\n",
       "    }\n",
       "\n",
       "    .dataframe tbody tr th {\n",
       "        vertical-align: top;\n",
       "    }\n",
       "\n",
       "    .dataframe thead th {\n",
       "        text-align: right;\n",
       "    }\n",
       "</style>\n",
       "<table border=\"1\" class=\"dataframe\">\n",
       "  <thead>\n",
       "    <tr style=\"text-align: right;\">\n",
       "      <th></th>\n",
       "      <th>lag_1</th>\n",
       "      <th>lag_2</th>\n",
       "      <th>lag_3</th>\n",
       "      <th>lag_4</th>\n",
       "      <th>lag_5</th>\n",
       "      <th>momentum</th>\n",
       "      <th>volatility</th>\n",
       "      <th>distance</th>\n",
       "      <th>direction</th>\n",
       "    </tr>\n",
       "    <tr>\n",
       "      <th>Time</th>\n",
       "      <th></th>\n",
       "      <th></th>\n",
       "      <th></th>\n",
       "      <th></th>\n",
       "      <th></th>\n",
       "      <th></th>\n",
       "      <th></th>\n",
       "      <th></th>\n",
       "      <th></th>\n",
       "    </tr>\n",
       "  </thead>\n",
       "  <tbody>\n",
       "    <tr>\n",
       "      <th>09/09/2019 21:00</th>\n",
       "      <td>-0.0080</td>\n",
       "      <td>0.0057</td>\n",
       "      <td>-0.0015</td>\n",
       "      <td>0.0013</td>\n",
       "      <td>-0.0060</td>\n",
       "      <td>-0.0017</td>\n",
       "      <td>0.0060</td>\n",
       "      <td>-98.290</td>\n",
       "      <td>1</td>\n",
       "    </tr>\n",
       "    <tr>\n",
       "      <th>09/09/2019 22:00</th>\n",
       "      <td>0.0053</td>\n",
       "      <td>-0.0080</td>\n",
       "      <td>0.0057</td>\n",
       "      <td>-0.0015</td>\n",
       "      <td>0.0013</td>\n",
       "      <td>0.0005</td>\n",
       "      <td>0.0062</td>\n",
       "      <td>-42.278</td>\n",
       "      <td>1</td>\n",
       "    </tr>\n",
       "    <tr>\n",
       "      <th>09/09/2019 23:00</th>\n",
       "      <td>0.0051</td>\n",
       "      <td>0.0053</td>\n",
       "      <td>-0.0080</td>\n",
       "      <td>0.0057</td>\n",
       "      <td>-0.0015</td>\n",
       "      <td>0.0013</td>\n",
       "      <td>0.0061</td>\n",
       "      <td>-66.948</td>\n",
       "      <td>0</td>\n",
       "    </tr>\n",
       "    <tr>\n",
       "      <th>10/09/2019 00:00</th>\n",
       "      <td>-0.0027</td>\n",
       "      <td>0.0051</td>\n",
       "      <td>0.0053</td>\n",
       "      <td>-0.0080</td>\n",
       "      <td>0.0057</td>\n",
       "      <td>0.0011</td>\n",
       "      <td>0.0061</td>\n",
       "      <td>-32.402</td>\n",
       "      <td>1</td>\n",
       "    </tr>\n",
       "    <tr>\n",
       "      <th>10/09/2019 01:00</th>\n",
       "      <td>0.0030</td>\n",
       "      <td>-0.0027</td>\n",
       "      <td>0.0051</td>\n",
       "      <td>0.0053</td>\n",
       "      <td>-0.0080</td>\n",
       "      <td>0.0005</td>\n",
       "      <td>0.0061</td>\n",
       "      <td>-35.812</td>\n",
       "      <td>0</td>\n",
       "    </tr>\n",
       "  </tbody>\n",
       "</table>\n",
       "</div>"
      ],
      "text/plain": [
       "                   lag_1   lag_2   lag_3   lag_4   lag_5  momentum  volatility  distance  direction\n",
       "Time                                                                                               \n",
       "09/09/2019 21:00 -0.0080  0.0057 -0.0015  0.0013 -0.0060   -0.0017      0.0060   -98.290          1\n",
       "09/09/2019 22:00  0.0053 -0.0080  0.0057 -0.0015  0.0013    0.0005      0.0062   -42.278          1\n",
       "09/09/2019 23:00  0.0051  0.0053 -0.0080  0.0057 -0.0015    0.0013      0.0061   -66.948          0\n",
       "10/09/2019 00:00 -0.0027  0.0051  0.0053 -0.0080  0.0057    0.0011      0.0061   -32.402          1\n",
       "10/09/2019 01:00  0.0030 -0.0027  0.0051  0.0053 -0.0080    0.0005      0.0061   -35.812          0"
      ]
     },
     "execution_count": 285,
     "metadata": {},
     "output_type": "execute_result"
    }
   ],
   "source": [
    "# Training Dataset\n",
    "training_data = dataset[:train_size].copy()\n",
    "\n",
    "training_data.round(4).tail()"
   ]
  },
  {
   "cell_type": "code",
   "execution_count": 286,
   "metadata": {},
   "outputs": [
    {
     "data": {
      "text/html": [
       "<div>\n",
       "<style scoped>\n",
       "    .dataframe tbody tr th:only-of-type {\n",
       "        vertical-align: middle;\n",
       "    }\n",
       "\n",
       "    .dataframe tbody tr th {\n",
       "        vertical-align: top;\n",
       "    }\n",
       "\n",
       "    .dataframe thead th {\n",
       "        text-align: right;\n",
       "    }\n",
       "</style>\n",
       "<table border=\"1\" class=\"dataframe\">\n",
       "  <thead>\n",
       "    <tr style=\"text-align: right;\">\n",
       "      <th></th>\n",
       "      <th>lag_1</th>\n",
       "      <th>lag_2</th>\n",
       "      <th>lag_3</th>\n",
       "      <th>lag_4</th>\n",
       "      <th>lag_5</th>\n",
       "      <th>momentum</th>\n",
       "      <th>volatility</th>\n",
       "      <th>distance</th>\n",
       "      <th>direction</th>\n",
       "    </tr>\n",
       "    <tr>\n",
       "      <th>Time</th>\n",
       "      <th></th>\n",
       "      <th></th>\n",
       "      <th></th>\n",
       "      <th></th>\n",
       "      <th></th>\n",
       "      <th></th>\n",
       "      <th></th>\n",
       "      <th></th>\n",
       "      <th></th>\n",
       "    </tr>\n",
       "  </thead>\n",
       "  <tbody>\n",
       "    <tr>\n",
       "      <th>10/09/2019 02:00</th>\n",
       "      <td>-0.0006</td>\n",
       "      <td>0.0030</td>\n",
       "      <td>-0.0027</td>\n",
       "      <td>0.0051</td>\n",
       "      <td>0.0053</td>\n",
       "      <td>0.0020</td>\n",
       "      <td>0.0061</td>\n",
       "      <td>-80.602</td>\n",
       "      <td>0</td>\n",
       "    </tr>\n",
       "    <tr>\n",
       "      <th>10/09/2019 03:00</th>\n",
       "      <td>-0.0046</td>\n",
       "      <td>-0.0006</td>\n",
       "      <td>0.0030</td>\n",
       "      <td>-0.0027</td>\n",
       "      <td>0.0051</td>\n",
       "      <td>0.0000</td>\n",
       "      <td>0.0061</td>\n",
       "      <td>-52.614</td>\n",
       "      <td>1</td>\n",
       "    </tr>\n",
       "    <tr>\n",
       "      <th>10/09/2019 04:00</th>\n",
       "      <td>0.0023</td>\n",
       "      <td>-0.0046</td>\n",
       "      <td>-0.0006</td>\n",
       "      <td>0.0030</td>\n",
       "      <td>-0.0027</td>\n",
       "      <td>-0.0005</td>\n",
       "      <td>0.0055</td>\n",
       "      <td>-53.522</td>\n",
       "      <td>0</td>\n",
       "    </tr>\n",
       "    <tr>\n",
       "      <th>10/09/2019 05:00</th>\n",
       "      <td>-0.0004</td>\n",
       "      <td>0.0023</td>\n",
       "      <td>-0.0046</td>\n",
       "      <td>-0.0006</td>\n",
       "      <td>0.0030</td>\n",
       "      <td>-0.0001</td>\n",
       "      <td>0.0055</td>\n",
       "      <td>-88.774</td>\n",
       "      <td>0</td>\n",
       "    </tr>\n",
       "    <tr>\n",
       "      <th>10/09/2019 06:00</th>\n",
       "      <td>-0.0037</td>\n",
       "      <td>-0.0004</td>\n",
       "      <td>0.0023</td>\n",
       "      <td>-0.0046</td>\n",
       "      <td>-0.0006</td>\n",
       "      <td>-0.0014</td>\n",
       "      <td>0.0052</td>\n",
       "      <td>-77.440</td>\n",
       "      <td>1</td>\n",
       "    </tr>\n",
       "  </tbody>\n",
       "</table>\n",
       "</div>"
      ],
      "text/plain": [
       "                   lag_1   lag_2   lag_3   lag_4   lag_5  momentum  volatility  distance  direction\n",
       "Time                                                                                               \n",
       "10/09/2019 02:00 -0.0006  0.0030 -0.0027  0.0051  0.0053    0.0020      0.0061   -80.602          0\n",
       "10/09/2019 03:00 -0.0046 -0.0006  0.0030 -0.0027  0.0051    0.0000      0.0061   -52.614          1\n",
       "10/09/2019 04:00  0.0023 -0.0046 -0.0006  0.0030 -0.0027   -0.0005      0.0055   -53.522          0\n",
       "10/09/2019 05:00 -0.0004  0.0023 -0.0046 -0.0006  0.0030   -0.0001      0.0055   -88.774          0\n",
       "10/09/2019 06:00 -0.0037 -0.0004  0.0023 -0.0046 -0.0006   -0.0014      0.0052   -77.440          1"
      ]
     },
     "execution_count": 286,
     "metadata": {},
     "output_type": "execute_result"
    }
   ],
   "source": [
    "# Test Dataset\n",
    "test_data = dataset[train_size:(train_size+test_size)].copy()\n",
    "\n",
    "test_data.round(4).head()"
   ]
  },
  {
   "cell_type": "code",
   "execution_count": 287,
   "metadata": {},
   "outputs": [
    {
     "data": {
      "text/html": [
       "<div>\n",
       "<style scoped>\n",
       "    .dataframe tbody tr th:only-of-type {\n",
       "        vertical-align: middle;\n",
       "    }\n",
       "\n",
       "    .dataframe tbody tr th {\n",
       "        vertical-align: top;\n",
       "    }\n",
       "\n",
       "    .dataframe thead th {\n",
       "        text-align: right;\n",
       "    }\n",
       "</style>\n",
       "<table border=\"1\" class=\"dataframe\">\n",
       "  <thead>\n",
       "    <tr style=\"text-align: right;\">\n",
       "      <th></th>\n",
       "      <th>lag_1</th>\n",
       "      <th>lag_2</th>\n",
       "      <th>lag_3</th>\n",
       "      <th>lag_4</th>\n",
       "      <th>lag_5</th>\n",
       "      <th>momentum</th>\n",
       "      <th>volatility</th>\n",
       "      <th>distance</th>\n",
       "      <th>direction</th>\n",
       "    </tr>\n",
       "    <tr>\n",
       "      <th>Time</th>\n",
       "      <th></th>\n",
       "      <th></th>\n",
       "      <th></th>\n",
       "      <th></th>\n",
       "      <th></th>\n",
       "      <th></th>\n",
       "      <th></th>\n",
       "      <th></th>\n",
       "      <th></th>\n",
       "    </tr>\n",
       "  </thead>\n",
       "  <tbody>\n",
       "    <tr>\n",
       "      <th>03/01/2019 02:00</th>\n",
       "      <td>-0.1736</td>\n",
       "      <td>-0.7515</td>\n",
       "      <td>-0.2187</td>\n",
       "      <td>0.1841</td>\n",
       "      <td>0.3171</td>\n",
       "      <td>-0.2947</td>\n",
       "      <td>-0.5200</td>\n",
       "      <td>0.1678</td>\n",
       "      <td>-1.0498</td>\n",
       "    </tr>\n",
       "    <tr>\n",
       "      <th>03/01/2019 03:00</th>\n",
       "      <td>-0.0666</td>\n",
       "      <td>-0.1734</td>\n",
       "      <td>-0.7515</td>\n",
       "      <td>-0.2186</td>\n",
       "      <td>0.1841</td>\n",
       "      <td>-0.4706</td>\n",
       "      <td>-0.5765</td>\n",
       "      <td>0.2014</td>\n",
       "      <td>0.9524</td>\n",
       "    </tr>\n",
       "    <tr>\n",
       "      <th>03/01/2019 04:00</th>\n",
       "      <td>0.3924</td>\n",
       "      <td>-0.0664</td>\n",
       "      <td>-0.1735</td>\n",
       "      <td>-0.7515</td>\n",
       "      <td>-0.2185</td>\n",
       "      <td>-0.3749</td>\n",
       "      <td>-0.5909</td>\n",
       "      <td>0.1553</td>\n",
       "      <td>-1.0498</td>\n",
       "    </tr>\n",
       "    <tr>\n",
       "      <th>03/01/2019 05:00</th>\n",
       "      <td>-0.3649</td>\n",
       "      <td>0.3925</td>\n",
       "      <td>-0.0664</td>\n",
       "      <td>-0.1734</td>\n",
       "      <td>-0.7515</td>\n",
       "      <td>-0.4419</td>\n",
       "      <td>-0.5719</td>\n",
       "      <td>0.1106</td>\n",
       "      <td>-1.0498</td>\n",
       "    </tr>\n",
       "    <tr>\n",
       "      <th>03/01/2019 06:00</th>\n",
       "      <td>-0.3588</td>\n",
       "      <td>-0.3647</td>\n",
       "      <td>0.3925</td>\n",
       "      <td>-0.0663</td>\n",
       "      <td>-0.1733</td>\n",
       "      <td>-0.2617</td>\n",
       "      <td>-0.5608</td>\n",
       "      <td>0.1016</td>\n",
       "      <td>0.9524</td>\n",
       "    </tr>\n",
       "  </tbody>\n",
       "</table>\n",
       "</div>"
      ],
      "text/plain": [
       "                   lag_1   lag_2   lag_3   lag_4   lag_5  momentum  volatility  distance  direction\n",
       "Time                                                                                               \n",
       "03/01/2019 02:00 -0.1736 -0.7515 -0.2187  0.1841  0.3171   -0.2947     -0.5200    0.1678    -1.0498\n",
       "03/01/2019 03:00 -0.0666 -0.1734 -0.7515 -0.2186  0.1841   -0.4706     -0.5765    0.2014     0.9524\n",
       "03/01/2019 04:00  0.3924 -0.0664 -0.1735 -0.7515 -0.2185   -0.3749     -0.5909    0.1553    -1.0498\n",
       "03/01/2019 05:00 -0.3649  0.3925 -0.0664 -0.1734 -0.7515   -0.4419     -0.5719    0.1106    -1.0498\n",
       "03/01/2019 06:00 -0.3588 -0.3647  0.3925 -0.0663 -0.1733   -0.2617     -0.5608    0.1016     0.9524"
      ]
     },
     "execution_count": 287,
     "metadata": {},
     "output_type": "execute_result"
    }
   ],
   "source": [
    "# Standardize the datasets\n",
    "mu, std = training_data.mean(), training_data.std()\n",
    "\n",
    "training_data_ = (training_data - mu)/std\n",
    "\n",
    "training_data_.round(4).head()"
   ]
  },
  {
   "cell_type": "code",
   "execution_count": 288,
   "metadata": {},
   "outputs": [
    {
     "data": {
      "text/html": [
       "<div>\n",
       "<style scoped>\n",
       "    .dataframe tbody tr th:only-of-type {\n",
       "        vertical-align: middle;\n",
       "    }\n",
       "\n",
       "    .dataframe tbody tr th {\n",
       "        vertical-align: top;\n",
       "    }\n",
       "\n",
       "    .dataframe thead th {\n",
       "        text-align: right;\n",
       "    }\n",
       "</style>\n",
       "<table border=\"1\" class=\"dataframe\">\n",
       "  <thead>\n",
       "    <tr style=\"text-align: right;\">\n",
       "      <th></th>\n",
       "      <th>lag_1</th>\n",
       "      <th>lag_2</th>\n",
       "      <th>lag_3</th>\n",
       "      <th>lag_4</th>\n",
       "      <th>lag_5</th>\n",
       "      <th>momentum</th>\n",
       "      <th>volatility</th>\n",
       "      <th>distance</th>\n",
       "      <th>direction</th>\n",
       "    </tr>\n",
       "    <tr>\n",
       "      <th>Time</th>\n",
       "      <th></th>\n",
       "      <th></th>\n",
       "      <th></th>\n",
       "      <th></th>\n",
       "      <th></th>\n",
       "      <th></th>\n",
       "      <th></th>\n",
       "      <th></th>\n",
       "      <th></th>\n",
       "    </tr>\n",
       "  </thead>\n",
       "  <tbody>\n",
       "    <tr>\n",
       "      <th>10/09/2019 02:00</th>\n",
       "      <td>-0.1072</td>\n",
       "      <td>0.3758</td>\n",
       "      <td>-0.3898</td>\n",
       "      <td>0.6623</td>\n",
       "      <td>0.6925</td>\n",
       "      <td>0.5657</td>\n",
       "      <td>0.0072</td>\n",
       "      <td>-0.3931</td>\n",
       "      <td>-1.0498</td>\n",
       "    </tr>\n",
       "    <tr>\n",
       "      <th>10/09/2019 03:00</th>\n",
       "      <td>-0.6454</td>\n",
       "      <td>-0.1070</td>\n",
       "      <td>0.3758</td>\n",
       "      <td>-0.3897</td>\n",
       "      <td>0.6624</td>\n",
       "      <td>-0.0477</td>\n",
       "      <td>0.0116</td>\n",
       "      <td>-0.2916</td>\n",
       "      <td>0.9524</td>\n",
       "    </tr>\n",
       "    <tr>\n",
       "      <th>10/09/2019 04:00</th>\n",
       "      <td>0.2857</td>\n",
       "      <td>-0.6452</td>\n",
       "      <td>-0.1070</td>\n",
       "      <td>0.3759</td>\n",
       "      <td>-0.3897</td>\n",
       "      <td>-0.2203</td>\n",
       "      <td>-0.1244</td>\n",
       "      <td>-0.2948</td>\n",
       "      <td>-1.0498</td>\n",
       "    </tr>\n",
       "    <tr>\n",
       "      <th>10/09/2019 05:00</th>\n",
       "      <td>-0.0851</td>\n",
       "      <td>0.2859</td>\n",
       "      <td>-0.6453</td>\n",
       "      <td>-0.1069</td>\n",
       "      <td>0.3759</td>\n",
       "      <td>-0.0805</td>\n",
       "      <td>-0.1231</td>\n",
       "      <td>-0.4227</td>\n",
       "      <td>-1.0498</td>\n",
       "    </tr>\n",
       "    <tr>\n",
       "      <th>10/09/2019 06:00</th>\n",
       "      <td>-0.5316</td>\n",
       "      <td>-0.0849</td>\n",
       "      <td>0.2859</td>\n",
       "      <td>-0.6452</td>\n",
       "      <td>-0.1069</td>\n",
       "      <td>-0.4965</td>\n",
       "      <td>-0.2044</td>\n",
       "      <td>-0.3816</td>\n",
       "      <td>0.9524</td>\n",
       "    </tr>\n",
       "  </tbody>\n",
       "</table>\n",
       "</div>"
      ],
      "text/plain": [
       "                   lag_1   lag_2   lag_3   lag_4   lag_5  momentum  volatility  distance  direction\n",
       "Time                                                                                               \n",
       "10/09/2019 02:00 -0.1072  0.3758 -0.3898  0.6623  0.6925    0.5657      0.0072   -0.3931    -1.0498\n",
       "10/09/2019 03:00 -0.6454 -0.1070  0.3758 -0.3897  0.6624   -0.0477      0.0116   -0.2916     0.9524\n",
       "10/09/2019 04:00  0.2857 -0.6452 -0.1070  0.3759 -0.3897   -0.2203     -0.1244   -0.2948    -1.0498\n",
       "10/09/2019 05:00 -0.0851  0.2859 -0.6453 -0.1069  0.3759   -0.0805     -0.1231   -0.4227    -1.0498\n",
       "10/09/2019 06:00 -0.5316 -0.0849  0.2859 -0.6452 -0.1069   -0.4965     -0.2044   -0.3816     0.9524"
      ]
     },
     "execution_count": 288,
     "metadata": {},
     "output_type": "execute_result"
    }
   ],
   "source": [
    "# Standardize the test dataset\n",
    "test_data_ = (test_data - mu)/std\n",
    "\n",
    "test_data_.round(4).head()"
   ]
  },
  {
   "cell_type": "markdown",
   "metadata": {},
   "source": [
    "### The Model with Additional Features"
   ]
  },
  {
   "cell_type": "code",
   "execution_count": 289,
   "metadata": {},
   "outputs": [],
   "source": [
    "# Specify the optimizer\n",
    "optimizer = Adam(learning_rate=0.0001)"
   ]
  },
  {
   "cell_type": "code",
   "execution_count": 290,
   "metadata": {},
   "outputs": [],
   "source": [
    "# Set seeds\n",
    "def set_seeds(seed=100):\n",
    "    #random.seed(seed)\n",
    "    np.random.seed(seed)\n",
    "    tf.random.set_seed(100)\n",
    "    \n",
    "set_seeds()"
   ]
  },
  {
   "cell_type": "code",
   "execution_count": 291,
   "metadata": {},
   "outputs": [],
   "source": [
    "# Specify the Model\n",
    "model = Sequential()\n",
    "model.add(Dense(64, activation='relu', input_shape=(len(features),)))\n",
    "model.add(Dense(64, activation='relu'))\n",
    "model.add(Dense(1, activation='sigmoid'))\n",
    "model.compile(optimizer=optimizer,\n",
    "             loss='binary_crossentropy',\n",
    "             metrics=['accuracy'])"
   ]
  },
  {
   "cell_type": "code",
   "execution_count": 292,
   "metadata": {},
   "outputs": [
    {
     "name": "stdout",
     "output_type": "stream",
     "text": [
      "Wall time: 8.64 s\n"
     ]
    },
    {
     "data": {
      "text/plain": [
       "<keras.callbacks.callbacks.History at 0x1705a58d788>"
      ]
     },
     "execution_count": 292,
     "metadata": {},
     "output_type": "execute_result"
    }
   ],
   "source": [
    "%%time\n",
    "# Fit the Model\n",
    "model.fit(training_data_[features], \n",
    "          training_data['direction'],\n",
    "         epochs=50, verbose=False,\n",
    "         validation_split=0.2, shuffle=False)"
   ]
  },
  {
   "cell_type": "code",
   "execution_count": 293,
   "metadata": {},
   "outputs": [
    {
     "data": {
      "text/plain": [
       "<matplotlib.axes._subplots.AxesSubplot at 0x1705d5b9b08>"
      ]
     },
     "execution_count": 293,
     "metadata": {},
     "output_type": "execute_result"
    },
    {
     "data": {
      "image/png": "[encoded data removed]",
      "text/plain": [
       "<Figure size 720x432 with 1 Axes>"
      ]
     },
     "metadata": {
      "needs_background": "light"
     },
     "output_type": "display_data"
    }
   ],
   "source": [
    "res = pd.DataFrame(model.history.history)\n",
    "\n",
    "res[['accuracy', 'val_accuracy']].plot(figsize=(10,6), style='--')"
   ]
  },
  {
   "cell_type": "code",
   "execution_count": 294,
   "metadata": {},
   "outputs": [
    {
     "name": "stdout",
     "output_type": "stream",
     "text": [
      "6000/6000 [==============================] - 0s 18us/step\n"
     ]
    },
    {
     "data": {
      "text/plain": [
       "[0.6425994561513265, 0.6305000185966492]"
      ]
     },
     "execution_count": 294,
     "metadata": {},
     "output_type": "execute_result"
    }
   ],
   "source": [
    "# Evaluate model\n",
    "model.evaluate(training_data_[features], training_data['direction'])"
   ]
  },
  {
   "cell_type": "code",
   "execution_count": 295,
   "metadata": {},
   "outputs": [
    {
     "data": {
      "text/plain": [
       "array([1, 1, 1, 1, 1, 1, 0, 1, 1, 1, 1, 1, 0, 1, 0, 1, 1, 1, 1, 0, 0, 0,\n",
       "       0, 1, 0, 1, 0, 0, 0, 0])"
      ]
     },
     "execution_count": 295,
     "metadata": {},
     "output_type": "execute_result"
    }
   ],
   "source": [
    "# Predictions\n",
    "pred = np.where(model.predict(training_data_[features]) > 0.5, 1, 0)\n",
    "pred[:30].flatten()"
   ]
  },
  {
   "cell_type": "code",
   "execution_count": 296,
   "metadata": {},
   "outputs": [
    {
     "data": {
      "text/html": [
       "<div>\n",
       "<style scoped>\n",
       "    .dataframe tbody tr th:only-of-type {\n",
       "        vertical-align: middle;\n",
       "    }\n",
       "\n",
       "    .dataframe tbody tr th {\n",
       "        vertical-align: top;\n",
       "    }\n",
       "\n",
       "    .dataframe thead th {\n",
       "        text-align: right;\n",
       "    }\n",
       "</style>\n",
       "<table border=\"1\" class=\"dataframe\">\n",
       "  <thead>\n",
       "    <tr style=\"text-align: right;\">\n",
       "      <th></th>\n",
       "      <th>lag_1</th>\n",
       "      <th>lag_2</th>\n",
       "      <th>lag_3</th>\n",
       "      <th>lag_4</th>\n",
       "      <th>lag_5</th>\n",
       "      <th>momentum</th>\n",
       "      <th>volatility</th>\n",
       "      <th>distance</th>\n",
       "      <th>direction</th>\n",
       "      <th>prediction</th>\n",
       "      <th>return</th>\n",
       "      <th>strategy</th>\n",
       "    </tr>\n",
       "    <tr>\n",
       "      <th>Time</th>\n",
       "      <th></th>\n",
       "      <th></th>\n",
       "      <th></th>\n",
       "      <th></th>\n",
       "      <th></th>\n",
       "      <th></th>\n",
       "      <th></th>\n",
       "      <th></th>\n",
       "      <th></th>\n",
       "      <th></th>\n",
       "      <th></th>\n",
       "      <th></th>\n",
       "    </tr>\n",
       "  </thead>\n",
       "  <tbody>\n",
       "    <tr>\n",
       "      <th>03/01/2019 02:00</th>\n",
       "      <td>-0.001091</td>\n",
       "      <td>-0.005365</td>\n",
       "      <td>-0.001425</td>\n",
       "      <td>0.001551</td>\n",
       "      <td>0.002534</td>\n",
       "      <td>-0.000759</td>\n",
       "      <td>0.003871</td>\n",
       "      <td>74.049529</td>\n",
       "      <td>0</td>\n",
       "      <td>1</td>\n",
       "      <td>-0.000300</td>\n",
       "      <td>-0.000300</td>\n",
       "    </tr>\n",
       "    <tr>\n",
       "      <th>03/01/2019 03:00</th>\n",
       "      <td>-0.000300</td>\n",
       "      <td>-0.001091</td>\n",
       "      <td>-0.005365</td>\n",
       "      <td>-0.001425</td>\n",
       "      <td>0.001551</td>\n",
       "      <td>-0.001326</td>\n",
       "      <td>0.003633</td>\n",
       "      <td>83.295381</td>\n",
       "      <td>1</td>\n",
       "      <td>1</td>\n",
       "      <td>0.003093</td>\n",
       "      <td>0.003093</td>\n",
       "    </tr>\n",
       "    <tr>\n",
       "      <th>03/01/2019 04:00</th>\n",
       "      <td>0.003093</td>\n",
       "      <td>-0.000300</td>\n",
       "      <td>-0.001091</td>\n",
       "      <td>-0.005365</td>\n",
       "      <td>-0.001425</td>\n",
       "      <td>-0.001017</td>\n",
       "      <td>0.003572</td>\n",
       "      <td>70.577018</td>\n",
       "      <td>0</td>\n",
       "      <td>1</td>\n",
       "      <td>-0.002505</td>\n",
       "      <td>-0.002505</td>\n",
       "    </tr>\n",
       "    <tr>\n",
       "      <th>03/01/2019 05:00</th>\n",
       "      <td>-0.002505</td>\n",
       "      <td>0.003093</td>\n",
       "      <td>-0.000300</td>\n",
       "      <td>-0.001091</td>\n",
       "      <td>-0.005365</td>\n",
       "      <td>-0.001233</td>\n",
       "      <td>0.003652</td>\n",
       "      <td>58.251618</td>\n",
       "      <td>0</td>\n",
       "      <td>1</td>\n",
       "      <td>-0.002460</td>\n",
       "      <td>-0.002460</td>\n",
       "    </tr>\n",
       "    <tr>\n",
       "      <th>03/01/2019 06:00</th>\n",
       "      <td>-0.002460</td>\n",
       "      <td>-0.002505</td>\n",
       "      <td>0.003093</td>\n",
       "      <td>-0.000300</td>\n",
       "      <td>-0.001091</td>\n",
       "      <td>-0.000653</td>\n",
       "      <td>0.003699</td>\n",
       "      <td>55.771460</td>\n",
       "      <td>1</td>\n",
       "      <td>1</td>\n",
       "      <td>0.000036</td>\n",
       "      <td>0.000036</td>\n",
       "    </tr>\n",
       "  </tbody>\n",
       "</table>\n",
       "</div>"
      ],
      "text/plain": [
       "                     lag_1     lag_2     lag_3     lag_4  ...  direction  prediction    return  strategy\n",
       "Time                                                      ...                                           \n",
       "03/01/2019 02:00 -0.001091 -0.005365 -0.001425  0.001551  ...          0           1 -0.000300 -0.000300\n",
       "03/01/2019 03:00 -0.000300 -0.001091 -0.005365 -0.001425  ...          1           1  0.003093  0.003093\n",
       "03/01/2019 04:00  0.003093 -0.000300 -0.001091 -0.005365  ...          0           1 -0.002505 -0.002505\n",
       "03/01/2019 05:00 -0.002505  0.003093 -0.000300 -0.001091  ...          0           1 -0.002460 -0.002460\n",
       "03/01/2019 06:00 -0.002460 -0.002505  0.003093 -0.000300  ...          1           1  0.000036  0.000036\n",
       "\n",
       "[5 rows x 12 columns]"
      ]
     },
     "execution_count": 296,
     "metadata": {},
     "output_type": "execute_result"
    }
   ],
   "source": [
    "# Calculate the strategy returns given the positions\n",
    "\n",
    "training_data['prediction'] = np.where(pred > 0, 1, -1)\n",
    "\n",
    "# add return column to training_data\n",
    "training_data['return'] = data[:train_size]['return']\n",
    "\n",
    "# strategy returns\n",
    "training_data['strategy'] = (training_data['prediction'] * training_data['return'])\n",
    "\n",
    "training_data.head()"
   ]
  },
  {
   "cell_type": "code",
   "execution_count": 297,
   "metadata": {},
   "outputs": [
    {
     "data": {
      "text/plain": [
       "return          2.695928\n",
       "strategy    40361.598429\n",
       "dtype: float64"
      ]
     },
     "execution_count": 297,
     "metadata": {},
     "output_type": "execute_result"
    }
   ],
   "source": [
    "# Total return\n",
    "(1 + training_data[['return','strategy']]).prod()"
   ]
  },
  {
   "cell_type": "code",
   "execution_count": 298,
   "metadata": {},
   "outputs": [],
   "source": [
    "# Check results in excel"
   ]
  },
  {
   "cell_type": "code",
   "execution_count": 299,
   "metadata": {},
   "outputs": [
    {
     "data": {
      "text/plain": [
       "<matplotlib.axes._subplots.AxesSubplot at 0x1705d784088>"
      ]
     },
     "execution_count": 299,
     "metadata": {},
     "output_type": "execute_result"
    },
    {
     "data": {
      "image/png": "[encoded data removed]",
      "text/plain": [
       "<Figure size 720x432 with 1 Axes>"
      ]
     },
     "metadata": {
      "needs_background": "light"
     },
     "output_type": "display_data"
    }
   ],
   "source": [
    "# Plot strategy performance (in-sample)\n",
    "(1 + training_data[['return','strategy']]).cumprod().plot(figsize=(10,6))"
   ]
  },
  {
   "cell_type": "code",
   "execution_count": 300,
   "metadata": {},
   "outputs": [
    {
     "name": "stdout",
     "output_type": "stream",
     "text": [
      "720/720 [==============================] - 0s 26us/step\n"
     ]
    },
    {
     "data": {
      "text/plain": [
       "[0.6774334245257907, 0.5972222089767456]"
      ]
     },
     "execution_count": 300,
     "metadata": {},
     "output_type": "execute_result"
    }
   ],
   "source": [
    "# Perfomance of model on test data\n",
    "model.evaluate(test_data_[features], test_data['direction'])"
   ]
  },
  {
   "cell_type": "code",
   "execution_count": 301,
   "metadata": {},
   "outputs": [
    {
     "data": {
      "text/plain": [
       "-1    416\n",
       " 1    304\n",
       "Name: prediction, dtype: int64"
      ]
     },
     "execution_count": 301,
     "metadata": {},
     "output_type": "execute_result"
    }
   ],
   "source": [
    "# Predictions\n",
    "pred = np.where(model.predict(test_data_[features]) > 0.5, 1, 0)\n",
    "\n",
    "test_data['prediction'] = np.where(pred > 0 , 1, -1)\n",
    "\n",
    "test_data['prediction'].value_counts()"
   ]
  },
  {
   "cell_type": "code",
   "execution_count": 302,
   "metadata": {},
   "outputs": [
    {
     "data": {
      "text/plain": [
       "return      0.825805\n",
       "strategy    2.100203\n",
       "dtype: float64"
      ]
     },
     "execution_count": 302,
     "metadata": {},
     "output_type": "execute_result"
    }
   ],
   "source": [
    "# Add returns column\n",
    "test_data['return'] = data[train_size:(train_size + test_size)]['return']\n",
    "\n",
    "# Calculate strategy returns\n",
    "test_data['strategy'] = (test_data['prediction'] * test_data['return'])\n",
    "\n",
    "(1 + test_data[['return','strategy']]).prod()"
   ]
  },
  {
   "cell_type": "code",
   "execution_count": 306,
   "metadata": {},
   "outputs": [
    {
     "data": {
      "text/plain": [
       "(array([-100.,    0.,  100.,  200.,  300.,  400.,  500.,  600.,  700.,\n",
       "         800.]),\n",
       " <a list of 10 Text xticklabel objects>)"
      ]
     },
     "execution_count": 306,
     "metadata": {},
     "output_type": "execute_result"
    },
    {
     "data": {
      "image/png": "[encoded data removed]",
      "text/plain": [
       "<Figure size 720x432 with 1 Axes>"
      ]
     },
     "metadata": {
      "needs_background": "light"
     },
     "output_type": "display_data"
    }
   ],
   "source": [
    "import matplotlib.pyplot as plt\n",
    "\n",
    "# Plot strategy performance\n",
    "(1 + test_data[['return','strategy']]).cumprod().plot(figsize=(10,6))\n",
    "plt.xticks(rotation=90)"
   ]
  },
  {
   "cell_type": "code",
   "execution_count": 309,
   "metadata": {},
   "outputs": [
    {
     "data": {
      "text/plain": [
       "(array([-100.,    0.,  100.,  200.,  300.,  400.,  500.,  600.,  700.,\n",
       "         800.]),\n",
       " <a list of 10 Text xticklabel objects>)"
      ]
     },
     "execution_count": 309,
     "metadata": {},
     "output_type": "execute_result"
    },
    {
     "data": {
      "image/png": "[encoded data removed]",
      "text/plain": [
       "<Figure size 720x432 with 1 Axes>"
      ]
     },
     "metadata": {
      "needs_background": "light"
     },
     "output_type": "display_data"
    }
   ],
   "source": [
    "# Plot Positions:\n",
    "test_data['prediction'].plot(figsize=(10,6))\n",
    "plt.xticks(rotation=90)"
   ]
  }
 ],
 "metadata": {
  "kernelspec": {
   "display_name": "Python 3",
   "language": "python",
   "name": "python3"
  },
  "language_info": {
   "codemirror_mode": {
    "name": "ipython",
    "version": 3
   },
   "file_extension": ".py",
   "mimetype": "text/x-python",
   "name": "python",
   "nbconvert_exporter": "python",
   "pygments_lexer": "ipython3",
   "version": "3.7.4"
  }
 },
 "nbformat": 4,
 "nbformat_minor": 4
}
